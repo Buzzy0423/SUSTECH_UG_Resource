{
 "cells": [
  {
   "cell_type": "code",
   "execution_count": 1189,
   "metadata": {},
   "outputs": [],
   "source": [
    "import pandas as pd\n",
    "import numpy\n",
    "import matplotlib.pyplot as plt"
   ]
  },
  {
   "cell_type": "code",
   "execution_count": 1190,
   "metadata": {},
   "outputs": [],
   "source": [
    "file1 = '2022_Problem_C_DATA/BCHAIN-MKPRU.csv'\n",
    "file2 = '2022_Problem_C_DATA/LBMA-GOLD.csv'\n",
    "f1 = pd.read_csv(file1)\n",
    "f2 = pd.read_csv(file2)"
   ]
  },
  {
   "cell_type": "code",
   "execution_count": 1191,
   "metadata": {},
   "outputs": [],
   "source": [
    "bit = f1['Value']\n",
    "bit_date = f1['Date']"
   ]
  },
  {
   "cell_type": "code",
   "execution_count": 1192,
   "metadata": {},
   "outputs": [
    {
     "name": "stdout",
     "output_type": "stream",
     "text": [
      "10\n"
     ]
    }
   ],
   "source": [
    "print(len(f2[f2.isnull().values==True]))"
   ]
  },
  {
   "cell_type": "code",
   "execution_count": 1193,
   "metadata": {},
   "outputs": [],
   "source": [
    "f2.dropna(axis=0, how='any', inplace=True)#去除缺失值"
   ]
  },
  {
   "cell_type": "code",
   "execution_count": 1194,
   "metadata": {},
   "outputs": [],
   "source": [
    "gold = f2['USD (PM)']\n",
    "gold_date = f2['Date']"
   ]
  },
  {
   "cell_type": "code",
   "execution_count": 1195,
   "metadata": {},
   "outputs": [
    {
     "name": "stdout",
     "output_type": "stream",
     "text": [
      "1826\n",
      "1826\n",
      "1255\n",
      "1255\n"
     ]
    }
   ],
   "source": [
    "print(len(bit))\n",
    "print(len(bit_date))\n",
    "print(len(gold))\n",
    "print(len(gold_date))"
   ]
  },
  {
   "cell_type": "code",
   "execution_count": 1196,
   "metadata": {},
   "outputs": [
    {
     "name": "stdout",
     "output_type": "stream",
     "text": [
      "0    9/11/16\n",
      "1    9/12/16\n",
      "2    9/13/16\n",
      "3    9/14/16\n",
      "4    9/15/16\n",
      "Name: Date, dtype: object\n",
      "0    9/12/16\n",
      "1    9/13/16\n",
      "2    9/14/16\n",
      "3    9/15/16\n",
      "4    9/16/16\n",
      "Name: Date, dtype: object\n"
     ]
    }
   ],
   "source": [
    "print(bit_date[0:5])\n",
    "print(gold_date[0:5])"
   ]
  },
  {
   "cell_type": "code",
   "execution_count": 1197,
   "metadata": {},
   "outputs": [],
   "source": [
    "bit = numpy.array(bit)\n",
    "gold = numpy.array(gold)"
   ]
  },
  {
   "cell_type": "code",
   "execution_count": 1198,
   "metadata": {},
   "outputs": [
    {
     "name": "stdout",
     "output_type": "stream",
     "text": [
      "(1826,)\n",
      "(1255,)\n"
     ]
    }
   ],
   "source": [
    "print(bit.shape)\n",
    "print(gold.shape)"
   ]
  },
  {
   "cell_type": "code",
   "execution_count": 1199,
   "metadata": {},
   "outputs": [
    {
     "name": "stdout",
     "output_type": "stream",
     "text": [
      "[621.65 609.67 610.92 608.82 610.38]\n",
      "612.288\n"
     ]
    }
   ],
   "source": [
    "print(bit[0:5])\n",
    "print(numpy.mean(bit[0:5]))"
   ]
  },
  {
   "cell_type": "code",
   "execution_count": 1200,
   "metadata": {},
   "outputs": [],
   "source": [
    "class Indicators:\n",
    "    def __init__(self, f1, f2):\n",
    "        # input dataframe\n",
    "        self.bit = numpy.array(f1)\n",
    "        self.gold = numpy.array(f2)\n",
    "        # MA\n",
    "        self.MA_bit_short = self.GET_MA(bit, 7)\n",
    "        self.MA_bit_long = self.GET_MA(bit, 28)\n",
    "        self.MA_gold_short = self.GET_MA(gold, 5)\n",
    "        self.MA_gold_long = self.GET_MA(gold, 20)\n",
    "        # EMA\n",
    "        self.EMA12_bit = self.GET_EMA(bit, 12)\n",
    "        self.EMA26_bit = self.GET_EMA(bit, 26)\n",
    "        self.EMA12_gold = self.GET_EMA(gold, 12)\n",
    "        self.EMA26_gold = self.GET_EMA(gold, 26)\n",
    "        #DIF & DEA\n",
    "        self.DIF_bit = self.EMA12_bit - self.EMA26_bit\n",
    "        self.DIF_gold = self.EMA12_gold - self.EMA26_gold\n",
    "        self.DEA_bit = self.GET_EMA(self.DIF_bit, 9)\n",
    "        self.DEA_gold = self.GET_EMA(self.DIF_gold, 9)\n",
    "        # RSI\n",
    "        self.RSI_bit = self.GET_RSI(bit)\n",
    "        self.RSI_gold = self.GET_RSI(gold)\n",
    "        # BIAS\n",
    "        self.BIAS_bit = self.GET_BIAS(self.MA_bit_short, self.MA_bit_long)\n",
    "        self.BIAS_gold = self.GET_BIAS(self.MA_gold_short, self.MA_gold_long)\n",
    "\n",
    "    def CAL_MA(self, array, day, period):\n",
    "        if (day-period+1 < 0):\n",
    "            return 0\n",
    "        else:\n",
    "            return numpy.mean(array[day-period+1:day+1])\n",
    "\n",
    "    def CAL_UD(self, array):\n",
    "        tmp = 0\n",
    "        U, D = [], []\n",
    "        for i in array:\n",
    "            if tmp == 0:\n",
    "                tmp = i\n",
    "                U.append(0)\n",
    "                D.append(0)\n",
    "            else:\n",
    "                if(i > tmp):\n",
    "                    U.append(abs(i-tmp))\n",
    "                    D.append(0)\n",
    "                elif(i < tmp):\n",
    "                    U.append(0)\n",
    "                    D.append(abs(i-tmp))\n",
    "                else:\n",
    "                    U.append(0)\n",
    "                    D.append(0)\n",
    "                tmp = i\n",
    "        return numpy.array(U), numpy.array(D)\n",
    "\n",
    "    def CAL_EMA(self, array, N, index):\n",
    "        for i in range(N):\n",
    "            if i == 0:\n",
    "                EMA = array[index-N+i+1]\n",
    "            else:\n",
    "                EMA = (((2 * array[index-N+i+1])+(N-1)*EMA)/N+1)\n",
    "        return EMA\n",
    "\n",
    "    def GET_RSI(self, array):\n",
    "        U, D = self.CAL_UD(array)\n",
    "        EMA_U = self.GET_EMA(U, 14)\n",
    "        EMA_D = self.GET_EMA(D, 14)\n",
    "        RSI = (EMA_U/(EMA_U+EMA_D))\n",
    "        return RSI\n",
    "\n",
    "    def GET_EMA(self, array, N):\n",
    "        EMA_N = []\n",
    "        for i in range(len(array)):\n",
    "            if i < N-1:\n",
    "                EMA_N.append(0)\n",
    "            else:\n",
    "                EMA_ = self.CAL_EMA(array, N, i)\n",
    "                EMA_N.append(EMA_)\n",
    "        return numpy.array(EMA_N)\n",
    "\n",
    "    def GET_MA(self, array, period):\n",
    "        MA = []\n",
    "        for i in range(len(array)):\n",
    "            MA.append(self.CAL_MA(array, i, period))\n",
    "        return numpy.array(MA)\n",
    "\n",
    "    def GET_BIAS(self, MA_short, MA_long):\n",
    "        BIAS = ((MA_short-MA_long)/MA_long)\n",
    "        return numpy.array(BIAS)\n",
    "\n",
    "    ######################type:'bit'/'gold'###########################\n",
    "    def EMA_12(self, type, day):\n",
    "        if type == 'bit':\n",
    "            return self.EMA12_bit[:day]\n",
    "        else:\n",
    "            return self.EMA12_gold[:day]\n",
    "\n",
    "    def EMA_26(self, type, day):\n",
    "        if type == 'bit':\n",
    "            return self.EMA26_bit[:day]\n",
    "        else:\n",
    "            return self.EMA26_gold[:day]\n",
    "\n",
    "    def MA_short(self, type, day):\n",
    "        if type == 'bit':\n",
    "            return self.MA_bit_short[:day]\n",
    "        else:\n",
    "            return self.MA_gold_short[:day]\n",
    "\n",
    "    def MA_long(self, type, day):\n",
    "        if type == 'bit':\n",
    "            return self.MA_bit_long[:day]\n",
    "        else:\n",
    "            return self.MA_gold_long[:day]\n",
    "\n",
    "    def DIF(self, type, day):\n",
    "        if type == 'bit':\n",
    "            return self.DIF_bit[:day]\n",
    "        else:\n",
    "            return self.DIF_gold[:day]\n",
    "\n",
    "    def DEA(self, type, day):\n",
    "        if type == 'bit':\n",
    "            return self.DEA_bit[:day]\n",
    "        else:\n",
    "            return self.DEA_gold[:day]\n",
    "\n",
    "    def RSI(self, type, day):\n",
    "        if type == 'bit':\n",
    "            return self.RSI_bit[:day]\n",
    "        else:\n",
    "            return self.RSI_gold[:day]\n",
    "\n",
    "    def BIAS(self, type, day):\n",
    "        if type == 'bit':\n",
    "            return self.BIAS_bit[:day]\n",
    "        else:\n",
    "            return self.BIAS_gold[:day]\n"
   ]
  },
  {
   "cell_type": "code",
   "execution_count": 1201,
   "metadata": {},
   "outputs": [
    {
     "name": "stderr",
     "output_type": "stream",
     "text": [
      "/var/folders/yd/5k827nkn5rbcnfly0n4b286c0000gn/T/ipykernel_9439/3303772797.py:67: RuntimeWarning: invalid value encountered in true_divide\n",
      "  RSI = (EMA_U/(EMA_U+EMA_D))\n",
      "/var/folders/yd/5k827nkn5rbcnfly0n4b286c0000gn/T/ipykernel_9439/3303772797.py:87: RuntimeWarning: divide by zero encountered in true_divide\n",
      "  BIAS = ((MA_short-MA_long)/MA_long)\n",
      "/var/folders/yd/5k827nkn5rbcnfly0n4b286c0000gn/T/ipykernel_9439/3303772797.py:87: RuntimeWarning: invalid value encountered in true_divide\n",
      "  BIAS = ((MA_short-MA_long)/MA_long)\n"
     ]
    }
   ],
   "source": [
    "Indicators = Indicators(bit, gold)"
   ]
  },
  {
   "cell_type": "code",
   "execution_count": 1202,
   "metadata": {},
   "outputs": [
    {
     "data": {
      "image/png": "[encoded data removed]",
      "text/plain": [
       "<Figure size 432x288 with 1 Axes>"
      ]
     },
     "metadata": {},
     "output_type": "display_data"
    }
   ],
   "source": [
    "plt.plot(bit)\n",
    "plt.show()"
   ]
  },
  {
   "cell_type": "code",
   "execution_count": 1203,
   "metadata": {},
   "outputs": [
    {
     "data": {
      "image/png": "[encoded data removed]",
      "text/plain": [
       "<Figure size 432x288 with 1 Axes>"
      ]
     },
     "metadata": {},
     "output_type": "display_data"
    }
   ],
   "source": [
    "MA_bit_short = Indicators.MA_short('bit', len(bit))\n",
    "MA_bit_long = Indicators.MA_long('bit', len(bit))\n",
    "EMA12_bit = Indicators.EMA_12('bit', len(bit))\n",
    "EMA26_bit = Indicators.EMA_26('bit', len(bit))\n",
    "DIF_bit = Indicators.DIF('gold', len(bit))\n",
    "DEA_bit = Indicators.DEA('bit', len(bit))\n",
    "RSI_bit = Indicators.RSI('bit', len(bit))\n",
    "BIAS_bit = Indicators.BIAS('bit', len(bit))\n",
    "plt.plot(MA_bit_short[1000:1200])\n",
    "plt.plot(MA_bit_long[1000:1200])\n",
    "plt.plot(EMA12_bit[1000:1200])\n",
    "plt.plot(EMA26_bit[1000:1200])\n",
    "plt.plot(DIF_bit[1000:1200])\n",
    "plt.plot(DEA_bit[1000:1200])\n",
    "plt.plot(RSI_bit[1000:1200])\n",
    "plt.plot(BIAS_bit[1000:1200])\n",
    "plt.show()"
   ]
  },
  {
   "cell_type": "code",
   "execution_count": 1204,
   "metadata": {},
   "outputs": [],
   "source": [
    "bit_buy_MA = []\n",
    "bit_sell_MA = []\n",
    "for i in range(len(MA_bit_short)):\n",
    "    if (MA_bit_short[i] > MA_bit_long[i]) & (MA_bit_short[i-1] < MA_bit_long[i-1]) & (MA_bit_short[i-1] != 0) & (MA_bit_long[i-1] != 0):\n",
    "        bit_buy_MA.append(i)\n",
    "    elif (MA_bit_short[i] < MA_bit_long[i]) & (MA_bit_short[i-1] > MA_bit_long[i-1]):\n",
    "        bit_sell_MA.append(i)\n",
    "\n",
    "bit_buy_DIFDEA = []\n",
    "bit_sell_DIFDEA = []\n",
    "for i in range(len(DIF_bit)):\n",
    "    if (DIF_bit[i] > DEA_bit[i]) & (DIF_bit[i-1] < DEA_bit[i-1]) & (DIF_bit[i-1] != 0) & (DEA_bit[i-1] != 0):\n",
    "        bit_buy_DIFDEA.append(i)\n",
    "    elif (DIF_bit[i] < DEA_bit[i]) & (DIF_bit[i-1] > DEA_bit[i-1]) & (DIF_bit[i-1] != 0) & (DEA_bit[i-1] != 0):\n",
    "        bit_sell_DIFDEA.append(i)\n",
    "\n",
    "bit_buy_DIF = []\n",
    "bit_sell_DIF = []\n",
    "for i in range(len(DIF_bit)):\n",
    "    if (DIF_bit[i] > 0) & (DIF_bit[i-1] < 0):\n",
    "        bit_buy_DIF.append(i)\n",
    "    elif (DIF_bit[i] < 0) & (DIF_bit[i-1] > 0):\n",
    "        bit_sell_DIF.append(i)\n",
    "\n",
    "bit_buy_RSI = []\n",
    "bit_sell_RSI = []\n",
    "for i in range(len(RSI_bit)):\n",
    "    if (RSI_bit[i] < 0.3) & (RSI_bit[i-1] > 0.3):\n",
    "        bit_buy_RSI.append(i)\n",
    "    elif (RSI_bit[i] > 0.7) & (RSI_bit[i-1] < 0.7):\n",
    "        bit_sell_RSI.append(i)\n"
   ]
  },
  {
   "cell_type": "code",
   "execution_count": 1205,
   "metadata": {},
   "outputs": [
    {
     "name": "stdout",
     "output_type": "stream",
     "text": [
      "33 33\n",
      "20 21\n",
      "30 31\n",
      "149 181\n"
     ]
    }
   ],
   "source": [
    "print(len(bit_buy_MA), len(bit_sell_MA))\n",
    "print(len(bit_buy_DIFDEA), len(bit_sell_DIFDEA))\n",
    "print(len(bit_buy_DIF), len(bit_sell_DIF))\n",
    "print(len(bit_buy_RSI), len(bit_sell_RSI))"
   ]
  },
  {
   "cell_type": "code",
   "execution_count": 1206,
   "metadata": {},
   "outputs": [],
   "source": [
    "bit_buy_MA = numpy.array(bit_buy_MA)\n",
    "bit_buy_DIF = numpy.array(bit_buy_DIF)\n",
    "bit_buy_DIFDEA = numpy.array(bit_buy_DIFDEA)\n",
    "bit_buy_RSI = numpy.array(bit_buy_RSI)\n",
    "\n",
    "bit_sell_MA = numpy.array(bit_sell_MA)\n",
    "bit_sell_DIF = numpy.array(bit_sell_DIF)\n",
    "bit_sell_DIFDEA = numpy.array(bit_sell_DIFDEA)\n",
    "bit_sell_RSI = numpy.array(bit_sell_RSI)"
   ]
  },
  {
   "cell_type": "code",
   "execution_count": 1207,
   "metadata": {},
   "outputs": [
    {
     "name": "stdout",
     "output_type": "stream",
     "text": [
      "(199,)\n",
      "(233,)\n",
      "(192,)\n",
      "(224,)\n"
     ]
    }
   ],
   "source": [
    "bit_buy = numpy.concatenate((bit_buy_DIFDEA, bit_buy_DIF, bit_buy_RSI))\n",
    "# bit_buy = numpy.array(bit_buy_RSI)\n",
    "# bit_buy = numpy.concatenate((bit_buy_DIFDEA, bit_buy_DIF))\n",
    "bit_sell = numpy.concatenate((bit_sell_DIFDEA, bit_sell_DIF, bit_sell_RSI))\n",
    "# bit_sell = numpy.array(bit_sell_RSI)\n",
    "# bit_sell = numpy.concatenate((bit_sell_DIFDEA, bit_sell_DIF))\n",
    "print(bit_buy.shape)\n",
    "print(bit_sell.shape)\n",
    "\n",
    "bit_buy = numpy.unique(bit_buy)\n",
    "bit_sell = numpy.unique(bit_sell)\n",
    "print(bit_buy.shape)\n",
    "print(bit_sell.shape)"
   ]
  },
  {
   "cell_type": "code",
   "execution_count": 1208,
   "metadata": {},
   "outputs": [
    {
     "name": "stdout",
     "output_type": "stream",
     "text": [
      "149\n"
     ]
    }
   ],
   "source": [
    "bit_buy_ = []\n",
    "for i in bit_buy:\n",
    "    condition = (bit_sell == i) | (\n",
    "        bit_sell == i-1) | (bit_sell == i-2) | (bit_sell == i-3)\n",
    "    if len(numpy.extract(condition, bit_sell)) == 0:\n",
    "        bit_buy_.append(i)\n",
    "\n",
    "print(len(bit_buy_))\n"
   ]
  },
  {
   "cell_type": "code",
   "execution_count": 1209,
   "metadata": {},
   "outputs": [
    {
     "data": {
      "image/png": "[encoded data removed]",
      "text/plain": [
       "<Figure size 432x288 with 1 Axes>"
      ]
     },
     "metadata": {},
     "output_type": "display_data"
    }
   ],
   "source": [
    "MA_gold_short = Indicators.MA_short('gold', len(gold))\n",
    "MA_gold_long = Indicators.MA_long('gold', len(gold))\n",
    "EMA12_gold = Indicators.EMA_12('gold', len(gold))\n",
    "EMA26_gold = Indicators.EMA_26('gold', len(gold))\n",
    "DIF_gold = Indicators.DIF('gold', len(gold))\n",
    "DEA_gold = Indicators.DEA('gold', len(gold))\n",
    "RSI_gold = Indicators.RSI('gold', len(gold))\n",
    "BIAS_gold = Indicators.BIAS('gold', len(gold))\n",
    "plt.plot(MA_gold_short[1000:1200])\n",
    "plt.plot(MA_gold_long[1000:1200])\n",
    "plt.plot(EMA12_gold[1000:1200])\n",
    "plt.plot(EMA26_gold[1000:1200])\n",
    "plt.plot(DIF_gold[1000:1200])\n",
    "plt.plot(DEA_gold[1000:1200])\n",
    "plt.plot(RSI_gold[1000:1200])\n",
    "plt.plot(BIAS_gold[1000:1200])\n",
    "plt.show()"
   ]
  },
  {
   "cell_type": "code",
   "execution_count": 1210,
   "metadata": {},
   "outputs": [],
   "source": [
    "gold_buy_MA = []\n",
    "gold_sell_MA = []\n",
    "for i in range(len(MA_gold_short)):\n",
    "    if (MA_gold_short[i] > MA_gold_long[i]) & (MA_gold_short[i-1] < MA_gold_long[i-1]):\n",
    "        gold_buy_MA.append(i)\n",
    "    elif (MA_gold_short[i] < MA_gold_long[i]) & (MA_gold_short[i-1] > MA_gold_long[i-1]):\n",
    "        gold_sell_MA.append(i)\n",
    "\n",
    "gold_buy_DIFDEA = []\n",
    "gold_sell_DIFDEA = []\n",
    "for i in range(len(DIF_gold)):\n",
    "    if (DIF_gold[i] > DEA_gold[i]) & (DIF_gold[i-1] < DEA_gold[i-1]) & (DIF_gold[i-1] != 0) & (DEA_gold[i-1] != 0):\n",
    "        gold_buy_DIFDEA.append(i)\n",
    "    elif (DIF_gold[i] < DEA_gold[i]) & (DIF_gold[i-1] > DEA_gold[i-1]) & (DIF_gold[i-1] != 0) & (DEA_gold[i-1] != 0):\n",
    "        gold_sell_DIFDEA.append(i)\n",
    "\n",
    "gold_buy_DIF = []\n",
    "gold_sell_DIF = []\n",
    "for i in range(len(DIF_gold)):\n",
    "    if (DIF_gold[i] > 0) & (DIF_gold[i-1] < 0):\n",
    "        gold_buy_DIF.append(i)\n",
    "    elif (DIF_gold[i] < 0) & (DIF_gold[i-1] > 0):\n",
    "        gold_sell_DIF.append(i)\n",
    "\n",
    "gold_buy_RSI = []\n",
    "gold_sell_RSI = []\n",
    "for i in range(len(RSI_gold)):\n",
    "    if (RSI_gold[i] < 0.3) & (RSI_gold[i-1] > 0.3):\n",
    "        gold_buy_RSI.append(i)\n",
    "    elif (RSI_gold[i] > 0.7) & (RSI_gold[i-1] < 0.7):\n",
    "        gold_sell_RSI.append(i)"
   ]
  },
  {
   "cell_type": "code",
   "execution_count": 1211,
   "metadata": {},
   "outputs": [
    {
     "name": "stdout",
     "output_type": "stream",
     "text": [
      "38 38\n",
      "43 43\n",
      "30 31\n",
      "13 18\n"
     ]
    }
   ],
   "source": [
    "print(len(gold_buy_MA), len(gold_sell_MA))\n",
    "print(len(gold_buy_DIFDEA), len(gold_sell_DIFDEA))\n",
    "print(len(gold_buy_DIF), len(gold_sell_DIF))\n",
    "print(len(gold_buy_RSI), len(gold_sell_RSI))"
   ]
  },
  {
   "cell_type": "code",
   "execution_count": 1212,
   "metadata": {},
   "outputs": [],
   "source": [
    "gold_buy_MA = numpy.array(gold_buy_MA)\n",
    "gold_buy_DIF = numpy.array(gold_buy_DIF)\n",
    "gold_buy_DIFDEA = numpy.array(gold_buy_DIFDEA)\n",
    "gold_buy_RSI = numpy.array(gold_buy_RSI)\n",
    "\n",
    "gold_sell_MA = numpy.array(gold_sell_MA)\n",
    "gold_sell_DIF = numpy.array(gold_sell_DIF)\n",
    "gold_sell_DIFDEA = numpy.array(gold_sell_DIFDEA)\n",
    "gold_sell_RSI = numpy.array(gold_sell_RSI)"
   ]
  },
  {
   "cell_type": "code",
   "execution_count": 1213,
   "metadata": {},
   "outputs": [
    {
     "name": "stdout",
     "output_type": "stream",
     "text": [
      "(86,)\n",
      "(92,)\n",
      "(83,)\n",
      "(90,)\n"
     ]
    }
   ],
   "source": [
    "gold_buy = numpy.concatenate((gold_buy_DIFDEA, gold_buy_DIF, gold_buy_RSI))\n",
    "# gold_buy = numpy.array(gold_buy_RSI)\n",
    "# gold_buy = numpy.concatenate((gold_buy_DIFDEA, gold_buy_DIF))\n",
    "gold_sell = numpy.concatenate((gold_sell_DIFDEA, gold_sell_DIF, gold_sell_RSI))\n",
    "# gold_sell = numpy.array(gold_sell_RSI)\n",
    "# gold_sell = numpy.concatenate((gold_sell_DIFDEA, gold_sell_DIF))\n",
    "print(gold_buy.shape)\n",
    "print(gold_sell.shape)\n",
    "\n",
    "gold_buy = numpy.unique(gold_buy)\n",
    "gold_sell = numpy.unique(gold_sell)\n",
    "print(gold_buy.shape)\n",
    "print(gold_sell.shape)"
   ]
  },
  {
   "cell_type": "code",
   "execution_count": 1214,
   "metadata": {},
   "outputs": [
    {
     "name": "stdout",
     "output_type": "stream",
     "text": [
      "45\n"
     ]
    }
   ],
   "source": [
    "gold_buy_ = []\n",
    "for i in gold_buy:\n",
    "    condition = (gold_sell == i) | (\n",
    "        gold_sell == i-1) | (gold_sell == i-2) | (gold_sell == i-3)\n",
    "    if len(numpy.extract(condition, gold_sell)) == 0:\n",
    "        gold_buy_.append(i)\n",
    "\n",
    "print(len(gold_buy_))\n"
   ]
  },
  {
   "cell_type": "code",
   "execution_count": 1215,
   "metadata": {},
   "outputs": [
    {
     "name": "stdout",
     "output_type": "stream",
     "text": [
      "[33, 53, 57, 88, 107, 131, 170, 203, 226, 252, 271, 320, 333, 363, 415, 534, 555, 571, 582, 606, 614, 628, 686, 726, 764, 829, 860, 875, 892, 928, 940, 953, 1002, 1060, 1080, 1097, 1101, 1122, 1124, 1154, 1165, 1203, 1207, 1219, 1236]\n"
     ]
    }
   ],
   "source": [
    "print(gold_buy_)"
   ]
  },
  {
   "cell_type": "code",
   "execution_count": 1216,
   "metadata": {},
   "outputs": [
    {
     "name": "stdout",
     "output_type": "stream",
     "text": [
      "(184,)\n"
     ]
    }
   ],
   "source": [
    "buy_day = numpy.concatenate((bit_buy_, gold_buy_))\n",
    "buy_day = numpy.unique(buy_day)\n",
    "print(buy_day.shape)"
   ]
  },
  {
   "cell_type": "code",
   "execution_count": 1217,
   "metadata": {},
   "outputs": [],
   "source": [
    "from scipy.optimize import minimize"
   ]
  },
  {
   "cell_type": "code",
   "execution_count": 1218,
   "metadata": {},
   "outputs": [],
   "source": [
    "def solve1(array1, array2, w0_, w1_, w2_, M_, i, j, L=0.15):\n",
    "    r1 = (array1[i] - array1[i-27])/(array1[i-27])\n",
    "    r2 = (array2[j] - array2[j-27])/(array2[j-27])\n",
    "    s1 = numpy.std(array1[i-27:i+1])\n",
    "    s2 = numpy.std(array2[j-27:j+1])\n",
    "    q1 = (2 * s1)/array1[i]\n",
    "    q2 = (2 * s2)/array2[j]\n",
    "    P1 = array1[i]/array1[i-1]\n",
    "    P2 = array2[j]/array2[j-1]\n",
    "    c1, c2 = 0.02, 0.01\n",
    "\n",
    "    V = lambda X: -((r1*X[0]*X[2]+r2*X[1]*X[2])-(c1*(((X[0]*X[2]-w1_*M_*P1)**(2))**(0.5))) - (c2*(((X[1]*X[2]-w2_*M_*P2)**(2))**(0.5))))\n",
    "        \n",
    "    cons1 = dict(type='ineq', fun=lambda X: X[0])\n",
    "    cons2 = dict(type='ineq', fun=lambda X: X[1])\n",
    "    cons3 = dict(type='ineq', fun=lambda X: 1-X[0]-X[1])\n",
    "    cons4 = dict(type='ineq', fun=lambda X: L-q1*X[0]-q2*X[1])\n",
    "    cons5 = dict(type='eq', fun=lambda X: X[2]+(c1*(((X[0]*X[2]-w1_*M_*P1)**(2))**(0.5))) + (c2*(((X[1]*X[2]-w2_*M_*P2)**(2))**(0.5))) - (w0_*M_ + w1_ * M_*P1 + w2_*M_*P2))\n",
    "    cons = [cons1, cons2, cons3, cons4, cons5]\n",
    "    result = minimize(\n",
    "        V, numpy.array((0.5,0.5,1000)), constraints=cons)\n",
    "    return result\n",
    "\n",
    "\n",
    "\n",
    "def solve2(array1, array2, w0_, w1_, w2_, M_, i, j, L=0.15):\n",
    "    r1 = (array1[i] - array1[i-27])/(array1[i-27])\n",
    "    r2 = (array2[j-1] - array2[j-28])/(array2[j-28])\n",
    "    s1 = numpy.std(array1[i-27:i+1])\n",
    "    s2 = numpy.std(array2[j-28:j])\n",
    "    q1 = (2 * s1)/array1[i]\n",
    "    q2 = (2 * s2)/array2[j-1]\n",
    "    P1 = array1[i]/array1[i-1]\n",
    "    P2 = 1\n",
    "    c1, c2 = 0.02, 0.01\n",
    "\n",
    "    V = lambda X: -((r1*X[0]*X[2]+r2*X[1]*X[2])-(c1*(((X[0]*X[2]-w1_*M_*P1)**(2))**(0.5))))\n",
    "        \n",
    "    cons1 = dict(type='ineq', fun=lambda X: X[0])\n",
    "    cons2 = dict(type='ineq', fun=lambda X: X[1])\n",
    "    cons3 = dict(type='ineq', fun=lambda X: 1-X[0]-X[1])\n",
    "    cons4 = dict(type='ineq', fun=lambda X: L-q1*X[0]-q2*X[1])\n",
    "    cons5 = dict(type='eq', fun=lambda X: X[2]+(c1*(((X[0]*X[2]-w1_*M_*P1)**(2))**(0.5))) - (w0_*M_ + w1_ * M_*P1 + w2_*M_*P2))\n",
    "    cons = [cons1, cons2, cons3, cons4, cons5]\n",
    "    result = minimize(\n",
    "        V, numpy.array((0.5,0.5,1000)), constraints=cons)\n",
    "    return result"
   ]
  },
  {
   "cell_type": "code",
   "execution_count": 1219,
   "metadata": {},
   "outputs": [],
   "source": [
    "r=solve1(bit, gold, 1, 0, 0, 1000, 29, 29)"
   ]
  },
  {
   "cell_type": "code",
   "execution_count": 1220,
   "metadata": {},
   "outputs": [
    {
     "name": "stdout",
     "output_type": "stream",
     "text": [
      "[ 7.46902540e-12 -1.45943257e-11  1.00000000e+03]\n"
     ]
    }
   ],
   "source": [
    "print(r['x'])"
   ]
  },
  {
   "cell_type": "code",
   "execution_count": 1221,
   "metadata": {},
   "outputs": [],
   "source": [
    "def contains(i, array):\n",
    "    return i in array"
   ]
  },
  {
   "cell_type": "code",
   "execution_count": 1222,
   "metadata": {},
   "outputs": [],
   "source": [
    "def Cal(bit, gold, bit_date, gold_date, bit_buy_, gold_buy_):\n",
    "    j = 0\n",
    "    M = []\n",
    "    w1, w2 = [], []\n",
    "    B, G, C = 0, 0, 1000\n",
    "    for i in range(len(bit)):\n",
    "        if bit_date[i] != gold_date[j]:\n",
    "            if contains(i, bit_buy_):\n",
    "                result = solve2(\n",
    "                    bit, gold, C/M[-1], B*bit[i]/M[-1], G*gold[j]/M[-1], M[-1], i, j)\n",
    "                M_ = round(result['x'][2], 4)\n",
    "                M.append(M_)\n",
    "                w1.append(result['x'][0])\n",
    "                w2.append(result['x'][1])\n",
    "                B = round(result['x'][0]*M_/bit[i], 4)\n",
    "                G = round(result['x'][1]*M_/gold[j], 4)\n",
    "                C = round(M_ - result['x'][0]*M_ - result['x'][1]*M_, 4)\n",
    "            else:\n",
    "                M.append(B*bit[i]+G*gold[j]+C)\n",
    "                w1.append(B*bit[i]/M[-1])\n",
    "                w2.append(G*gold[j]/M[-1])\n",
    "        else:\n",
    "            if contains(i, bit_buy_) | contains(j, gold_buy_):\n",
    "                result = solve1(\n",
    "                    bit, gold, C/M[-1], B*bit[i]/M[-1], G*gold[j]/M[-1], M[-1], i, j)\n",
    "                M_ = round(result['x'][2], 4)\n",
    "                M.append(M_)\n",
    "                w1.append(result['x'][0])\n",
    "                w2.append(result['x'][1])\n",
    "                B = round(result['x'][0]*M_/bit[i], 4)\n",
    "                G = round(result['x'][1]*M_/gold[j], 4)\n",
    "                C = round(M_ - result['x'][0]*M_ - result['x'][1]*M_, 4)\n",
    "            else:\n",
    "                M.append(B*bit[i]+G*gold[j]+C)\n",
    "                w1.append(B*bit[i]/M[-1])\n",
    "                w2.append(G*gold[j]/M[-1])\n",
    "            j += 1\n",
    "    return M, w1, w2\n"
   ]
  },
  {
   "cell_type": "code",
   "execution_count": 1223,
   "metadata": {},
   "outputs": [],
   "source": [
    "gold_date = numpy.array(gold_date)\n",
    "bit_day = numpy.array(bit_date)\n"
   ]
  },
  {
   "cell_type": "code",
   "execution_count": 1224,
   "metadata": {},
   "outputs": [],
   "source": [
    "M, w1, w2 = Cal(bit, gold, bit_date, gold_date, bit_buy_, gold_buy_)"
   ]
  },
  {
   "cell_type": "code",
   "execution_count": 1225,
   "metadata": {},
   "outputs": [
    {
     "data": {
      "text/plain": [
       "<Figure size 700x700 with 0 Axes>"
      ]
     },
     "metadata": {},
     "output_type": "display_data"
    }
   ],
   "source": [
    "plt.rcParams['text.usetex'] = False  # 开启Latex风格\n",
    "plt.figure(figsize=(10, 10), dpi=70)  # 设置图像大小\n",
    "plt.style.use('ggplot')  # 加载'ggplot'风格"
   ]
  },
  {
   "cell_type": "code",
   "execution_count": 1226,
   "metadata": {},
   "outputs": [
    {
     "data": {
      "image/png": "[encoded data removed]",
      "text/plain": [
       "<Figure size 432x288 with 1 Axes>"
      ]
     },
     "metadata": {},
     "output_type": "display_data"
    }
   ],
   "source": [
    "plt.plot(M, color = 'lightcoral')\n",
    "plt.xlabel('Day D')\n",
    "plt.ylabel('Overall Wealth')\n",
    "plt.show()"
   ]
  },
  {
   "cell_type": "code",
   "execution_count": 1227,
   "metadata": {},
   "outputs": [
    {
     "name": "stdout",
     "output_type": "stream",
     "text": [
      "3097.428492\n"
     ]
    }
   ],
   "source": [
    "print(M[-1])"
   ]
  },
  {
   "cell_type": "code",
   "execution_count": 1228,
   "metadata": {},
   "outputs": [
    {
     "data": {
      "image/png": "[encoded data removed]",
      "text/plain": [
       "<Figure size 432x288 with 1 Axes>"
      ]
     },
     "metadata": {},
     "output_type": "display_data"
    }
   ],
   "source": [
    "plt.plot(w1)\n",
    "plt.plot(w2)\n",
    "plt.show()"
   ]
  },
  {
   "cell_type": "markdown",
   "metadata": {},
   "source": [
    "[0, 0] 14810.159586000002 \n",
    "[0.005, 0.005] 12357.255885\n",
    "[0.01, 0.01] 11425.245216000001\n",
    "[0.015, 0.01] 9811.614804\n",
    "[0.02, 0.01] 11619.993714\n",
    "[0.02, 0.02] 7154.688867\n",
    "[0.025, 0.015] 9296.922345\n",
    "[0.03, 0.02] 4168.545231\n",
    "[0.025, 0.01] 10052.731992\n",
    "[0.03, 0.01] 5012.455389000001\n",
    "[0.03, 0.03] 5833.181202"
   ]
  },
  {
   "cell_type": "code",
   "execution_count": 1229,
   "metadata": {},
   "outputs": [
    {
     "name": "stdout",
     "output_type": "stream",
     "text": [
      "106.97959870724482\n"
     ]
    }
   ],
   "source": [
    "print(max(bit)/min(bit))"
   ]
  }
 ],
 "metadata": {
  "interpreter": {
   "hash": "aee8b7b246df8f9039afb4144a1f6fd8d2ca17a180786b69acc140d282b71a49"
  },
  "kernelspec": {
   "display_name": "Python 3.8.7 64-bit",
   "language": "python",
   "name": "python3"
  },
  "language_info": {
   "codemirror_mode": {
    "name": "ipython",
    "version": 3
   },
   "file_extension": ".py",
   "mimetype": "text/x-python",
   "name": "python",
   "nbconvert_exporter": "python",
   "pygments_lexer": "ipython3",
   "version": "3.8.7"
  },
  "orig_nbformat": 4
 },
 "nbformat": 4,
 "nbformat_minor": 2
}
