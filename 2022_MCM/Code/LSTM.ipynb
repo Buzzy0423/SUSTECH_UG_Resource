{
  "cells": [
    {
      "cell_type": "code",
      "execution_count": null,
      "metadata": {
        "id": "Qckb-roZEdmH"
      },
      "outputs": [],
      "source": [
        "import pandas as pd\n",
        "import numpy as np"
      ]
    },
    {
      "cell_type": "code",
      "execution_count": null,
      "metadata": {
        "id": "j92eWcK2EdmL"
      },
      "outputs": [],
      "source": [
        "file1 = '2022_Problem_C_DATA/BCHAIN-MKPRU.csv'\n",
        "file2 = '2022_Problem_C_DATA/LBMA-GOLD.csv'\n",
        "f1 = pd.read_csv(file1)\n",
        "f2 = pd.read_csv(file2)\n"
      ]
    },
    {
      "cell_type": "code",
      "execution_count": null,
      "metadata": {
        "id": "Gi86FopXEdmM",
        "outputId": "38514cbd-89b6-4d08-8626-b17d6e266405"
      },
      "outputs": [
        {
          "name": "stdout",
          "output_type": "stream",
          "text": [
            "      Date   Value\n",
            "0  9/11/16  621.65\n",
            "1  9/12/16  609.67\n",
            "2  9/13/16  610.92\n",
            "3  9/14/16  608.82\n",
            "4  9/15/16  610.38\n",
            "5  9/16/16  609.11\n",
            "6  9/17/16  607.04\n",
            "7  9/18/16  611.58\n",
            "8  9/19/16  610.19\n",
            "9  9/20/16  608.66\n",
            "      Date  USD (PM)\n",
            "0  9/12/16   1324.60\n",
            "1  9/13/16   1323.65\n",
            "2  9/14/16   1321.75\n",
            "3  9/15/16   1310.80\n",
            "4  9/16/16   1308.35\n",
            "5  9/19/16   1314.85\n",
            "6  9/20/16   1313.80\n",
            "7  9/21/16   1326.10\n",
            "8  9/22/16   1339.10\n",
            "9  9/23/16   1338.65\n"
          ]
        }
      ],
      "source": [
        "print(f1.iloc[0:10])\n",
        "print(f2.iloc[0:10])\n"
      ]
    },
    {
      "cell_type": "code",
      "execution_count": null,
      "metadata": {
        "id": "4QzfY6JsEdmN"
      },
      "outputs": [],
      "source": [
        "def insert(df, i, df_add):\n",
        "    # 指定第i行插入一行数据\n",
        "    df1 = df.iloc[:i, :]\n",
        "    df2 = df.iloc[i:, :]\n",
        "    df_new = pd.concat([df1, df_add, df2], ignore_index=True)\n",
        "    return df_new\n",
        "\n",
        "\n",
        "def data_reform(f1, f2):\n",
        "    index = 0\n",
        "    Test = f2\n",
        "    for i in range(len(f1['Date'])):\n",
        "        if i == 0:\n",
        "            continue\n",
        "        if f1['Date'][i] != f2['Date'][index]:\n",
        "            df_add = [{'Date': f1['Date'][i],\n",
        "                       'USD (PM)': f2['USD (PM)'][index-1]}]\n",
        "            df_add = pd.DataFrame(df_add)\n",
        "            Test = insert(Test, i-1, df_add)\n",
        "        else:\n",
        "            index += 1\n",
        "    return Test\n",
        "\n"
      ]
    },
    {
      "cell_type": "code",
      "execution_count": null,
      "metadata": {
        "id": "uEpcT2nYEdmP"
      },
      "outputs": [],
      "source": [
        "f2 = data_reform(f1, f2)"
      ]
    },
    {
      "cell_type": "code",
      "execution_count": null,
      "metadata": {
        "id": "cAU9Seq8EdmP",
        "outputId": "d2b1ed4a-0df7-4341-992a-a4ef53309f1a"
      },
      "outputs": [
        {
          "name": "stdout",
          "output_type": "stream",
          "text": [
            "       Date  USD (PM)\n",
            "0   9/12/16   1324.60\n",
            "1   9/13/16   1323.65\n",
            "2   9/14/16   1321.75\n",
            "3   9/15/16   1310.80\n",
            "4   9/16/16   1308.35\n",
            "5   9/17/16   1308.35\n",
            "6   9/18/16   1308.35\n",
            "7   9/19/16   1314.85\n",
            "8   9/20/16   1313.80\n",
            "9   9/21/16   1326.10\n",
            "10  9/22/16   1339.10\n",
            "11  9/23/16   1338.65\n",
            "12  9/24/16   1338.65\n",
            "13  9/25/16   1338.65\n",
            "14  9/26/16   1340.50\n"
          ]
        }
      ],
      "source": [
        "print(f2.iloc[0:15])"
      ]
    },
    {
      "cell_type": "code",
      "execution_count": null,
      "metadata": {
        "id": "rQmXlO7SEdmQ"
      },
      "outputs": [],
      "source": [
        "f2.to_csv('2022_Problem_C_DATA/LBMA-GOLD_CLEAN.csv')"
      ]
    },
    {
      "cell_type": "code",
      "execution_count": null,
      "metadata": {
        "id": "tYR-syDeEdmR"
      },
      "outputs": [],
      "source": [
        "import numpy\n",
        "import matplotlib.pyplot as plt\n",
        "from keras.models import Sequential\n",
        "from keras.layers import Dense\n",
        "from keras.layers import LSTM\n",
        "import pandas as pd\n",
        "import os\n",
        "from keras import models\n",
        "from keras.models import Sequential, load_model\n",
        "from sklearn.preprocessing import MinMaxScaler\n"
      ]
    },
    {
      "cell_type": "code",
      "execution_count": null,
      "metadata": {
        "id": "lk5sgkfCEdmR"
      },
      "outputs": [],
      "source": [
        "dataset1 = f1['Value'].values\n",
        "# 将整型变为float\n",
        "dataset1 = dataset1.astype('float32')\n",
        "dataset1 = dataset1.reshape(-1, 1)\n",
        "# 归一化\n",
        "scaler = MinMaxScaler(feature_range=(0, 1))\n",
        "dataset = scaler.fit_transform(dataset1)\n",
        "\n",
        "dataset2 = f2['USD (PM)'].values\n",
        "# 将整型变为float\n",
        "dataset2 = dataset2.astype('float32')\n",
        "dataset2 = dataset2.reshape(-1, 1)\n",
        "# 归一化\n",
        "scaler = MinMaxScaler(feature_range=(0, 1))\n",
        "dataset = scaler.fit_transform(dataset2)\n"
      ]
    },
    {
      "cell_type": "code",
      "execution_count": null,
      "metadata": {
        "id": "mDHKTOcrEdmS"
      },
      "outputs": [],
      "source": [
        "def iter_bit(dataset1, look_back):\n",
        "    data_bit_X, data_bit_Y = [], []\n",
        "    for i in range(len(dataset1)-look_back-1):\n",
        "        a = dataset1[i:(i+look_back)]\n",
        "        data_bit_X.append(a)\n",
        "        data_bit_Y.append(dataset1[i + look_back:i + look_back + 1])\n",
        "    return numpy.array(data_bit_X), numpy.array(data_bit_Y)\n",
        "\n",
        "\n",
        "def iter_gold(dataset2, look_back):\n",
        "    data_gold_X, data_gold_Y = [], []\n",
        "    for i in range(len(dataset2)-look_back-1):\n",
        "        a = dataset2[i:(i+look_back)]\n",
        "        data_gold_X.append(a)\n",
        "        data_gold_Y.append(dataset2[i + look_back:i + look_back + 1])\n",
        "    return numpy.array(data_gold_X), numpy.array(data_gold_Y)\n"
      ]
    },
    {
      "cell_type": "code",
      "execution_count": null,
      "metadata": {
        "id": "Nv4ufDzSEdmT"
      },
      "outputs": [],
      "source": [
        "train_bit_X, train_bit_Y = iter_bit(dataset1, 5)\n",
        "train_gold_X, train_gold_Y = iter_bit(dataset1, 5)\n"
      ]
    },
    {
      "cell_type": "code",
      "execution_count": null,
      "metadata": {
        "id": "RBMEO34aEdmT",
        "outputId": "62941312-5090-45ca-e23d-ae36a8efaccf"
      },
      "outputs": [
        {
          "name": "stdout",
          "output_type": "stream",
          "text": [
            "[[[621.65]\n",
            "  [609.67]\n",
            "  [610.92]\n",
            "  [608.82]\n",
            "  [610.38]]\n",
            "\n",
            " [[609.67]\n",
            "  [610.92]\n",
            "  [608.82]\n",
            "  [610.38]\n",
            "  [609.11]]\n",
            "\n",
            " [[610.92]\n",
            "  [608.82]\n",
            "  [610.38]\n",
            "  [609.11]\n",
            "  [607.04]]]\n",
            "[[[609.11]]\n",
            "\n",
            " [[607.04]]\n",
            "\n",
            " [[611.58]]]\n"
          ]
        }
      ],
      "source": [
        "print(train_bit_X[0:3])\n",
        "print(train_bit_Y[0:3])"
      ]
    },
    {
      "cell_type": "code",
      "execution_count": null,
      "metadata": {
        "id": "Ob_kTXX6EdmU"
      },
      "outputs": [],
      "source": [
        "# create and fit the LSTM network\n",
        "class Model_bit:\n",
        "    def __init__(self, train_bit_X, train_bit_Y):\n",
        "        self.model = Sequential()\n",
        "        self.model.add(LSTM(4, input_shape=(5,1)))\n",
        "        self.model.add(Dense(1))\n",
        "        self.model.compile(loss='mean_squared_error', optimizer='adam')\n",
        "        self.train_bit_X = train_bit_X\n",
        "        self.train_bit_Y = train_bit_Y\n",
        "\n",
        "    def train(self, day, batch_size=1):\n",
        "        train_X = self.train_bit_X[0:day]\n",
        "        train_Y = self.train_bit_Y[0:day]\n",
        "        for i in range(50):\n",
        "            self.model.fit(train_X, train_Y, epochs=1, batch_size=batch_size, verbose=0, shuffle=False)\n",
        "            self.model.reset_states()\n",
        "\n",
        "    def predict(self, day):\n",
        "        # 反归一化\n",
        "        pred_X = self.train_bit_X[day-1:day]\n",
        "        pred_X = numpy.reshape(pred_X, (1, 5, 1))\n",
        "        trainPredict = self.model.predict(pred_X)\n",
        "        return scaler.inverse_transform(trainPredict)\n",
        "\n",
        "\n",
        "class Model_gold:\n",
        "    def __init__(self, train_gold_X, train_gold_Y):\n",
        "        self.model = Sequential()\n",
        "        self.model.add(LSTM(4, input_shape=(None, 1)))\n",
        "        self.model.add(Dense(1))\n",
        "        self.model.compile(loss='mean_squared_error', optimizer='adam')\n",
        "        self.train_bit_X = train_gold_X\n",
        "        self.train_bit_Y = train_gold_Y\n",
        "\n",
        "    def train(self, day, batch_size=1):\n",
        "        train_X = self.train_gold_X[0:day]\n",
        "        train_Y = self.train_gold_Y[0:day]\n",
        "        self.model.fit(train_X, train_Y, epochs=5,\n",
        "                       batch_size=batch_size, verbose=0, shuffle=False)\n",
        "        self.model.reset_states()\n",
        "\n",
        "    def predict(self, day):\n",
        "        # 反归一化\n",
        "        trainPredict = self.model.predict(self.train_gold_X[0:day])\n",
        "        return scaler.inverse_transform(trainPredict)\n",
        "\n",
        "\n",
        "#model_bit.save(os.path.join(\"Model\", \"Bit\" + \".h5\"))\n",
        "# make predictions\n"
      ]
    },
    {
      "cell_type": "code",
      "execution_count": null,
      "metadata": {
        "id": "CD87MNtcEdmV"
      },
      "outputs": [],
      "source": [
        "model_bit = Model_bit(train_bit_X, train_bit_Y)\n",
        "model_gold = Model_gold(train_gold_X, train_gold_Y)"
      ]
    },
    {
      "cell_type": "code",
      "execution_count": null,
      "metadata": {
        "id": "7h05Bq52EdmW"
      },
      "outputs": [],
      "source": [
        "model_bit.train(600)\n"
      ]
    },
    {
      "cell_type": "code",
      "execution_count": null,
      "metadata": {
        "id": "gHFbUEqgEdmW"
      },
      "outputs": [],
      "source": [
        "predict = []\n",
        "\n",
        "for i in range(10):\n",
        "    predict.append(model_bit.predict(600+i))\n"
      ]
    },
    {
      "cell_type": "code",
      "execution_count": null,
      "metadata": {
        "id": "_TzEdVvhEdmW",
        "outputId": "b00ab5cf-8daa-46bc-d023-390cf98d7597"
      },
      "outputs": [
        {
          "name": "stdout",
          "output_type": "stream",
          "text": [
            "[array([[38452.59]], dtype=float32), array([[38452.59]], dtype=float32), array([[38452.59]], dtype=float32), array([[38452.59]], dtype=float32), array([[38452.59]], dtype=float32), array([[38452.59]], dtype=float32), array([[38452.59]], dtype=float32), array([[38452.59]], dtype=float32), array([[38452.59]], dtype=float32), array([[38452.59]], dtype=float32)]\n",
            "        Date        Value\n",
            "600   5/4/18  9753.350000\n",
            "601   5/5/18  9803.306667\n",
            "602   5/6/18  9630.136277\n",
            "603   5/7/18  9631.440000\n",
            "604   5/8/18  9228.608333\n",
            "605   5/9/18  9322.041667\n",
            "606  5/10/18  9310.370000\n",
            "607  5/11/18  8468.788000\n",
            "608  5/12/18  8484.346667\n",
            "609  5/13/18  8463.520000\n"
          ]
        }
      ],
      "source": [
        "print(predict)\n",
        "print(f1.iloc[600:610])"
      ]
    },
    {
      "cell_type": "code",
      "execution_count": null,
      "metadata": {
        "id": "eg47XWTqEdmX",
        "outputId": "56428954-8e02-49ea-fb77-2aff58e4871a"
      },
      "outputs": [
        {
          "data": {
            "image/png": "[encoded data removed]",
            "text/plain": [
              "<Figure size 432x288 with 1 Axes>"
            ]
          },
          "metadata": {
            "needs_background": "light"
          },
          "output_type": "display_data"
        },
        {
          "data": {
            "image/png": "[encoded data removed]",
            "text/plain": [
              "<Figure size 432x288 with 1 Axes>"
            ]
          },
          "metadata": {
            "needs_background": "light"
          },
          "output_type": "display_data"
        }
      ],
      "source": [
        "plt.plot(train_bit_Y.reshape(1820)[:600])\n",
        "plt.show()\n",
        "plt.plot(predict)\n",
        "plt.show()\n"
      ]
    },
    {
      "cell_type": "code",
      "execution_count": 111,
      "metadata": {
        "colab": {
          "base_uri": "https://localhost:8080/"
        },
        "id": "hHCykh4QEdmX",
        "outputId": "db12d0ce-9852-4a17-e997-a6fa6ac4b096"
      },
      "outputs": [
        {
          "output_type": "stream",
          "name": "stderr",
          "text": [
            "/usr/local/lib/python3.7/dist-packages/ipykernel_launcher.py:5: FutureWarning: The pandas.datetime class is deprecated and will be removed from pandas in a future version. Import from datetime module instead.\n",
            "  \"\"\"\n"
          ]
        }
      ],
      "source": [
        "from pandas import DataFrame\n",
        "from pandas import Series\n",
        "from pandas import concat\n",
        "from pandas import read_csv\n",
        "from pandas import datetime\n",
        "from sklearn.metrics import mean_squared_error\n",
        "from sklearn.preprocessing import MinMaxScaler\n",
        "from keras.models import Sequential\n",
        "from keras.layers import Dense\n",
        "from keras.layers import LSTM\n",
        "from math import sqrt\n",
        "from matplotlib import pyplot\n",
        "import numpy\n",
        "\n",
        "# date-time parsing function for loading the dataset\n",
        "def parser(x):\n",
        "\treturn datetime.strptime('190'+x, '%Y-%m')\n",
        "\n",
        "# frame a sequence as a supervised learning problem\n",
        "def timeseries_to_supervised(data, lag=5):\n",
        "\tdf = DataFrame(data)\n",
        "\tcolumns = [df.shift(i) for i in range(1, lag+1)]\n",
        "\tcolumns.append(df)\n",
        "\tdf = concat(columns, axis=1)\n",
        "\tdf.fillna(0, inplace=True)\n",
        "\treturn df\n",
        "\n",
        "# create a differenced series\n",
        "def difference(dataset, interval=1):\n",
        "\tdiff = list()\n",
        "\tfor i in range(interval, len(dataset)):\n",
        "\t\tvalue = dataset[i] - dataset[i - interval]\n",
        "\t\tdiff.append(value)\n",
        "\treturn Series(diff)\n",
        "\n",
        "# invert differenced value\n",
        "def inverse_difference(history, yhat, interval=1):\n",
        "\treturn yhat + history[-interval]\n",
        "\n",
        "# scale train and test data to [-1, 1]\n",
        "def scale(train, test):\n",
        "\t# fit scaler\n",
        "\tscaler = MinMaxScaler(feature_range=(-1, 1))\n",
        "\tscaler = scaler.fit(train)\n",
        "\t# transform train\n",
        "\ttrain = train.reshape(train.shape[0], train.shape[1])\n",
        "\ttrain_scaled = scaler.transform(train)\n",
        "\t# transform test\n",
        "\ttest = test.reshape(test.shape[0], test.shape[1])\n",
        "\ttest_scaled = scaler.transform(test)\n",
        "\treturn scaler, train_scaled, test_scaled\n",
        "\n",
        "# inverse scaling for a forecasted value\n",
        "def invert_scale(scaler, X, value):\n",
        "\tnew_row = [x for x in X] + [value]\n",
        "\tprint(new_row)\n",
        "\tarray = numpy.asarray(new_row)\n",
        "\tarray = array.reshape(1, len(array))\n",
        "\tinverted = scaler.inverse_transform(array)\n",
        "\treturn inverted[0, -1]\n",
        "\n",
        "# fit an LSTM network to training data\n",
        "def fit_lstm(train, batch_size, nb_epoch, neurons):\n",
        "\tX, y = train[:, 0:-1], train[:, -1]\n",
        "\tX = X.reshape(X.shape[0], 1, X.shape[1])\n",
        "\tmodel = Sequential()\n",
        "\tmodel.add(LSTM(neurons, batch_input_shape=(batch_size, X.shape[1], X.shape[2]), stateful=True))\n",
        "\tmodel.add(Dense(1))\n",
        "\tmodel.compile(loss='mean_squared_error', optimizer='adam')\n",
        "\tfor i in range(nb_epoch):\n",
        "\t\tmodel.fit(X, y, epochs=1, batch_size=batch_size, verbose=0, shuffle=False)\n",
        "\t\tmodel.reset_states()\n",
        "\treturn model\n",
        "\n",
        "# make a one-step forecast\n",
        "def forecast_lstm(model, batch_size, X):\n",
        "\tX = X.reshape(1, 1, len(X))\n",
        "\tyhat = model.predict(X, batch_size=batch_size)\n",
        "\treturn yhat[0,0]\n",
        "\n",
        "\n"
      ]
    },
    {
      "cell_type": "code",
      "execution_count": 37,
      "metadata": {
        "colab": {
          "base_uri": "https://localhost:8080/"
        },
        "id": "T8ZduAomEdmX",
        "outputId": "5f365ed1-6a40-4981-8165-6495ed867027"
      },
      "outputs": [
        {
          "output_type": "stream",
          "name": "stdout",
          "text": [
            "Date\n",
            "9/11/16    621.65\n",
            "9/12/16    609.67\n",
            "9/13/16    610.92\n",
            "9/14/16    608.82\n",
            "9/15/16    610.38\n",
            "Name: Value, dtype: float64\n"
          ]
        }
      ],
      "source": [
        "# load dataset\n",
        "series = read_csv('BCHAIN-MKPRU.csv', header=0, index_col=0, squeeze=True)\n",
        "print(series.head())"
      ]
    },
    {
      "cell_type": "code",
      "execution_count": 38,
      "metadata": {
        "id": "5HmN6JFzEdmY"
      },
      "outputs": [],
      "source": [
        "# transform data to be stationary\n",
        "raw_values = series.values\n",
        "diff_values = difference(raw_values, 1)"
      ]
    },
    {
      "cell_type": "code",
      "execution_count": 39,
      "metadata": {
        "colab": {
          "base_uri": "https://localhost:8080/"
        },
        "id": "x0UcSM2pEdmY",
        "outputId": "9ca562f5-d272-4a0e-87c5-694085d0aa34"
      },
      "outputs": [
        {
          "output_type": "stream",
          "name": "stdout",
          "text": [
            "[  621.65   609.67   610.92 ... 46809.17 46078.38 46368.69]\n"
          ]
        }
      ],
      "source": [
        "print(raw_values)"
      ]
    },
    {
      "cell_type": "code",
      "execution_count": 43,
      "metadata": {
        "id": "_8TGh4z6EdmY"
      },
      "outputs": [],
      "source": [
        "# transform data to be supervised learning\n",
        "supervised = timeseries_to_supervised(diff_values, 5)\n",
        "supervised_values = supervised.values"
      ]
    },
    {
      "cell_type": "code",
      "execution_count": 45,
      "metadata": {
        "colab": {
          "base_uri": "https://localhost:8080/"
        },
        "id": "VKClPk0qEdmY",
        "outputId": "a9feb846-1657-4b0a-ee6e-b82e63db55da"
      },
      "outputs": [
        {
          "output_type": "stream",
          "name": "stdout",
          "text": [
            "(1825, 6)\n"
          ]
        }
      ],
      "source": [
        "print(supervised.shape)"
      ]
    },
    {
      "cell_type": "code",
      "execution_count": 46,
      "metadata": {
        "id": "ONlwfo1xEdmY"
      },
      "outputs": [],
      "source": [
        "# split data into train and test-sets\n",
        "train, test = supervised_values[0:-12], supervised_values[-12:]"
      ]
    },
    {
      "cell_type": "code",
      "execution_count": 47,
      "metadata": {
        "id": "eOkL0MT3EdmZ"
      },
      "outputs": [],
      "source": [
        "# transform the scale of the data\n",
        "scaler, train_scaled, test_scaled = scale(train, test)"
      ]
    },
    {
      "cell_type": "code",
      "execution_count": 48,
      "metadata": {
        "id": "yG_62vT7EdmZ"
      },
      "outputs": [],
      "source": [
        "import os\n",
        "os.environ[\"CUDA_VISIBLE_DEVICES\"]=\"0\""
      ]
    },
    {
      "cell_type": "code",
      "execution_count": 49,
      "metadata": {
        "id": "WgPITKR_EdmZ"
      },
      "outputs": [],
      "source": [
        "# fit the model\n",
        "lstm_model = fit_lstm(train_scaled, 1, 100, 4)"
      ]
    },
    {
      "cell_type": "code",
      "source": [
        "print(train_scaled.shape)"
      ],
      "metadata": {
        "colab": {
          "base_uri": "https://localhost:8080/"
        },
        "id": "dFmeawzPgjbK",
        "outputId": "e29f59dc-86b5-4791-cf25-b0169c472502"
      },
      "execution_count": 54,
      "outputs": [
        {
          "output_type": "stream",
          "name": "stdout",
          "text": [
            "(1813, 6)\n"
          ]
        }
      ]
    },
    {
      "cell_type": "code",
      "execution_count": 50,
      "metadata": {
        "colab": {
          "base_uri": "https://localhost:8080/",
          "height": 839
        },
        "id": "ZCqimC4dEdmZ",
        "outputId": "48029264-038b-4c73-9870-d25ba21fa167"
      },
      "outputs": [
        {
          "output_type": "stream",
          "name": "stdout",
          "text": [
            "WARNING:tensorflow:Model was constructed with shape (1, 1, 5) for input KerasTensor(type_spec=TensorSpec(shape=(1, 1, 5), dtype=tf.float32, name='lstm_1_input'), name='lstm_1_input', description=\"created by layer 'lstm_1_input'\"), but it was called on an input with incompatible shape (1, 1, 1).\n"
          ]
        },
        {
          "output_type": "error",
          "ename": "ValueError",
          "evalue": "ignored",
          "traceback": [
            "\u001b[0;31m---------------------------------------------------------------------------\u001b[0m",
            "\u001b[0;31mValueError\u001b[0m                                Traceback (most recent call last)",
            "\u001b[0;32m<ipython-input-50-53594ca7fbcf>\u001b[0m in \u001b[0;36m<module>\u001b[0;34m()\u001b[0m\n\u001b[1;32m      1\u001b[0m \u001b[0;31m# forecast the entire training dataset to build up state for forecasting\u001b[0m\u001b[0;34m\u001b[0m\u001b[0;34m\u001b[0m\u001b[0;34m\u001b[0m\u001b[0m\n\u001b[1;32m      2\u001b[0m \u001b[0mtrain_reshaped\u001b[0m \u001b[0;34m=\u001b[0m \u001b[0mtrain_scaled\u001b[0m\u001b[0;34m[\u001b[0m\u001b[0;34m:\u001b[0m\u001b[0;34m,\u001b[0m \u001b[0;36m0\u001b[0m\u001b[0;34m]\u001b[0m\u001b[0;34m.\u001b[0m\u001b[0mreshape\u001b[0m\u001b[0;34m(\u001b[0m\u001b[0mlen\u001b[0m\u001b[0;34m(\u001b[0m\u001b[0mtrain_scaled\u001b[0m\u001b[0;34m)\u001b[0m\u001b[0;34m,\u001b[0m \u001b[0;36m1\u001b[0m\u001b[0;34m,\u001b[0m \u001b[0;36m1\u001b[0m\u001b[0;34m)\u001b[0m\u001b[0;34m\u001b[0m\u001b[0;34m\u001b[0m\u001b[0m\n\u001b[0;32m----> 3\u001b[0;31m \u001b[0mlstm_model\u001b[0m\u001b[0;34m.\u001b[0m\u001b[0mpredict\u001b[0m\u001b[0;34m(\u001b[0m\u001b[0mtrain_reshaped\u001b[0m\u001b[0;34m,\u001b[0m \u001b[0mbatch_size\u001b[0m\u001b[0;34m=\u001b[0m\u001b[0;36m1\u001b[0m\u001b[0;34m)\u001b[0m\u001b[0;34m\u001b[0m\u001b[0;34m\u001b[0m\u001b[0m\n\u001b[0m",
            "\u001b[0;32m/usr/local/lib/python3.7/dist-packages/keras/utils/traceback_utils.py\u001b[0m in \u001b[0;36merror_handler\u001b[0;34m(*args, **kwargs)\u001b[0m\n\u001b[1;32m     65\u001b[0m     \u001b[0;32mexcept\u001b[0m \u001b[0mException\u001b[0m \u001b[0;32mas\u001b[0m \u001b[0me\u001b[0m\u001b[0;34m:\u001b[0m  \u001b[0;31m# pylint: disable=broad-except\u001b[0m\u001b[0;34m\u001b[0m\u001b[0;34m\u001b[0m\u001b[0m\n\u001b[1;32m     66\u001b[0m       \u001b[0mfiltered_tb\u001b[0m \u001b[0;34m=\u001b[0m \u001b[0m_process_traceback_frames\u001b[0m\u001b[0;34m(\u001b[0m\u001b[0me\u001b[0m\u001b[0;34m.\u001b[0m\u001b[0m__traceback__\u001b[0m\u001b[0;34m)\u001b[0m\u001b[0;34m\u001b[0m\u001b[0;34m\u001b[0m\u001b[0m\n\u001b[0;32m---> 67\u001b[0;31m       \u001b[0;32mraise\u001b[0m \u001b[0me\u001b[0m\u001b[0;34m.\u001b[0m\u001b[0mwith_traceback\u001b[0m\u001b[0;34m(\u001b[0m\u001b[0mfiltered_tb\u001b[0m\u001b[0;34m)\u001b[0m \u001b[0;32mfrom\u001b[0m \u001b[0;32mNone\u001b[0m\u001b[0;34m\u001b[0m\u001b[0;34m\u001b[0m\u001b[0m\n\u001b[0m\u001b[1;32m     68\u001b[0m     \u001b[0;32mfinally\u001b[0m\u001b[0;34m:\u001b[0m\u001b[0;34m\u001b[0m\u001b[0;34m\u001b[0m\u001b[0m\n\u001b[1;32m     69\u001b[0m       \u001b[0;32mdel\u001b[0m \u001b[0mfiltered_tb\u001b[0m\u001b[0;34m\u001b[0m\u001b[0;34m\u001b[0m\u001b[0m\n",
            "\u001b[0;32m/usr/local/lib/python3.7/dist-packages/tensorflow/python/framework/func_graph.py\u001b[0m in \u001b[0;36mautograph_handler\u001b[0;34m(*args, **kwargs)\u001b[0m\n\u001b[1;32m   1145\u001b[0m           \u001b[0;32mexcept\u001b[0m \u001b[0mException\u001b[0m \u001b[0;32mas\u001b[0m \u001b[0me\u001b[0m\u001b[0;34m:\u001b[0m  \u001b[0;31m# pylint:disable=broad-except\u001b[0m\u001b[0;34m\u001b[0m\u001b[0;34m\u001b[0m\u001b[0m\n\u001b[1;32m   1146\u001b[0m             \u001b[0;32mif\u001b[0m \u001b[0mhasattr\u001b[0m\u001b[0;34m(\u001b[0m\u001b[0me\u001b[0m\u001b[0;34m,\u001b[0m \u001b[0;34m\"ag_error_metadata\"\u001b[0m\u001b[0;34m)\u001b[0m\u001b[0;34m:\u001b[0m\u001b[0;34m\u001b[0m\u001b[0;34m\u001b[0m\u001b[0m\n\u001b[0;32m-> 1147\u001b[0;31m               \u001b[0;32mraise\u001b[0m \u001b[0me\u001b[0m\u001b[0;34m.\u001b[0m\u001b[0mag_error_metadata\u001b[0m\u001b[0;34m.\u001b[0m\u001b[0mto_exception\u001b[0m\u001b[0;34m(\u001b[0m\u001b[0me\u001b[0m\u001b[0;34m)\u001b[0m\u001b[0;34m\u001b[0m\u001b[0;34m\u001b[0m\u001b[0m\n\u001b[0m\u001b[1;32m   1148\u001b[0m             \u001b[0;32melse\u001b[0m\u001b[0;34m:\u001b[0m\u001b[0;34m\u001b[0m\u001b[0;34m\u001b[0m\u001b[0m\n\u001b[1;32m   1149\u001b[0m               \u001b[0;32mraise\u001b[0m\u001b[0;34m\u001b[0m\u001b[0;34m\u001b[0m\u001b[0m\n",
            "\u001b[0;31mValueError\u001b[0m: in user code:\n\n    File \"/usr/local/lib/python3.7/dist-packages/keras/engine/training.py\", line 1801, in predict_function  *\n        return step_function(self, iterator)\n    File \"/usr/local/lib/python3.7/dist-packages/keras/engine/training.py\", line 1790, in step_function  **\n        outputs = model.distribute_strategy.run(run_step, args=(data,))\n    File \"/usr/local/lib/python3.7/dist-packages/keras/engine/training.py\", line 1783, in run_step  **\n        outputs = model.predict_step(data)\n    File \"/usr/local/lib/python3.7/dist-packages/keras/engine/training.py\", line 1751, in predict_step\n        return self(x, training=False)\n    File \"/usr/local/lib/python3.7/dist-packages/keras/utils/traceback_utils.py\", line 67, in error_handler\n        raise e.with_traceback(filtered_tb) from None\n    File \"/usr/local/lib/python3.7/dist-packages/keras/engine/input_spec.py\", line 264, in assert_input_compatibility\n        raise ValueError(f'Input {input_index} of layer \"{layer_name}\" is '\n\n    ValueError: Exception encountered when calling layer \"sequential_1\" (type Sequential).\n    \n    Input 0 of layer \"lstm_1\" is incompatible with the layer: expected shape=(1, None, 5), found shape=(1, 1, 1)\n    \n    Call arguments received:\n      • inputs=tf.Tensor(shape=(1, 1, 1), dtype=float32)\n      • training=False\n      • mask=None\n"
          ]
        }
      ],
      "source": [
        "# forecast the entire training dataset to build up state for forecasting\n",
        "train_reshaped = train_scaled[:, 0].reshape(len(train_scaled), 1, 1)\n",
        "lstm_model.predict(train_reshaped, batch_size=1)"
      ]
    },
    {
      "cell_type": "code",
      "execution_count": 51,
      "metadata": {
        "colab": {
          "base_uri": "https://localhost:8080/"
        },
        "id": "PQF52oFyEdmZ",
        "outputId": "4e0fe97d-d0a1-4297-c984-1920058396b6"
      },
      "outputs": [
        {
          "output_type": "stream",
          "name": "stdout",
          "text": [
            "Month=1, Predicted=49221.931163, Expected=48806.780000\n",
            "Month=2, Predicted=49248.066183, Expected=47074.770000\n",
            "Month=3, Predicted=47503.975060, Expected=47155.870000\n",
            "Month=4, Predicted=46768.594574, Expected=48862.760000\n",
            "Month=5, Predicted=49146.106577, Expected=49329.010000\n",
            "Month=6, Predicted=49605.278980, Expected=50035.330000\n",
            "Month=7, Predicted=50332.537391, Expected=49947.380000\n",
            "Month=8, Predicted=50321.031879, Expected=51769.060000\n",
            "Month=9, Predicted=52025.075800, Expected=52677.400000\n",
            "Month=10, Predicted=53106.269795, Expected=46809.170000\n",
            "Month=11, Predicted=47602.375476, Expected=46078.380000\n",
            "Month=12, Predicted=46010.038856, Expected=46368.690000\n"
          ]
        }
      ],
      "source": [
        "# walk-forward validation on the test data\n",
        "predictions = list()\n",
        "for i in range(len(test_scaled)):\n",
        "\t# make one-step forecast\n",
        "\tX, y = test_scaled[i, 0:-1], test_scaled[i, -1]\n",
        "\tyhat = forecast_lstm(lstm_model, 1, X)\n",
        "\t# invert scaling\n",
        "\tyhat = invert_scale(scaler, X, yhat)\n",
        "\t# invert differencing\n",
        "\tyhat = inverse_difference(raw_values, yhat, len(test_scaled)+1-i)\n",
        "\t# store forecast\n",
        "\tpredictions.append(yhat)\n",
        "\texpected = raw_values[len(train) + i + 1]\n",
        "\tprint('Month=%d, Predicted=%f, Expected=%f' % (i+1, yhat, expected))"
      ]
    },
    {
      "cell_type": "code",
      "source": [
        "pred7 = []\n",
        "X = test_scaled[0, 0:6].reshape(1,1,6)\n",
        "tag = raw_values[-12]\n",
        "for i in range(12):\n",
        "  yhat = lstm_model.predict(X)\n",
        "  for i in range(5):\n",
        "    X[:,:,i] = X[:,:,i+1]\n",
        "  X[:,:,5] = yhat\n",
        "  y = scaler.inverse_transform(X.reshape(1,6))\n",
        "  #y = inverse_difference(raw_values, yhat, len(test_scaled)+1-i)\n",
        "  y = y[:,5].reshape(1)\n",
        "  y = tag + y\n",
        "  tag = y\n",
        "  pred7.append(y)"
      ],
      "metadata": {
        "id": "FG3CzPUwYGtd"
      },
      "execution_count": 147,
      "outputs": []
    },
    {
      "cell_type": "code",
      "source": [
        "print(pred7)"
      ],
      "metadata": {
        "colab": {
          "base_uri": "https://localhost:8080/"
        },
        "id": "s9wb_Nw0i3sq",
        "outputId": "42de533c-ed11-4855-e657-7659fe60d453"
      },
      "execution_count": 148,
      "outputs": [
        {
          "output_type": "stream",
          "name": "stdout",
          "text": [
            "[array([50603.89177332]), array([49902.14080677]), array([50019.58019417]), array([48937.29628431]), array([49967.71431495]), array([48945.73463038]), array([49621.08032932]), array([48553.3057093]), array([51161.14496062]), array([50650.91678963]), array([51834.35973522]), array([51612.88208135])]\n"
          ]
        }
      ]
    },
    {
      "cell_type": "code",
      "source": [
        "pyplot.plot(raw_values[-12:])\n",
        "pyplot.plot(pred7)\n",
        "pyplot.show()"
      ],
      "metadata": {
        "colab": {
          "base_uri": "https://localhost:8080/",
          "height": 269
        },
        "id": "nsLUdQ_RZw_7",
        "outputId": "e39f321c-243d-4b42-d853-25e446ae72a3"
      },
      "execution_count": 149,
      "outputs": [
        {
          "output_type": "display_data",
          "data": {
            "image/png": "[encoded data removed]",
            "text/plain": [
              "<Figure size 432x288 with 1 Axes>"
            ]
          },
          "metadata": {
            "needs_background": "light"
          }
        }
      ]
    },
    {
      "cell_type": "code",
      "source": [
        "print(len(test_scaled))"
      ],
      "metadata": {
        "colab": {
          "base_uri": "https://localhost:8080/"
        },
        "id": "nGS3WF2tVY3e",
        "outputId": "da8ee14a-fe7d-4f4d-f4b3-a46876569e1c"
      },
      "execution_count": 19,
      "outputs": [
        {
          "output_type": "stream",
          "name": "stdout",
          "text": [
            "12\n"
          ]
        }
      ]
    },
    {
      "cell_type": "code",
      "execution_count": 17,
      "metadata": {
        "colab": {
          "base_uri": "https://localhost:8080/"
        },
        "id": "EBYvEYzTEdmZ",
        "outputId": "3a41b6e2-e984-4566-d58d-6aa35bad3c71"
      },
      "outputs": [
        {
          "output_type": "stream",
          "name": "stdout",
          "text": [
            "Test RMSE: 1998.384\n"
          ]
        }
      ],
      "source": [
        "# report performance\n",
        "rmse = sqrt(mean_squared_error(raw_values[-12:], predictions))\n",
        "print('Test RMSE: %.3f' % rmse)\n"
      ]
    },
    {
      "cell_type": "code",
      "execution_count": 23,
      "metadata": {
        "colab": {
          "base_uri": "https://localhost:8080/",
          "height": 265
        },
        "id": "D6ZJumVSEdma",
        "outputId": "4526120b-f645-4db6-e5c2-e9e92bd47682"
      },
      "outputs": [
        {
          "output_type": "display_data",
          "data": {
            "image/png": "[encoded data removed]",
            "text/plain": [
              "<Figure size 432x288 with 1 Axes>"
            ]
          },
          "metadata": {
            "needs_background": "light"
          }
        }
      ],
      "source": [
        "# line plot of observed vs predicted\n",
        "pyplot.plot(raw_values[-12:])\n",
        "pyplot.plot(predictions)\n",
        "pyplot.show()"
      ]
    }
  ],
  "metadata": {
    "interpreter": {
      "hash": "aee8b7b246df8f9039afb4144a1f6fd8d2ca17a180786b69acc140d282b71a49"
    },
    "kernelspec": {
      "display_name": "Python 3.8.7 64-bit",
      "language": "python",
      "name": "python3"
    },
    "language_info": {
      "codemirror_mode": {
        "name": "ipython",
        "version": 3
      },
      "file_extension": ".py",
      "mimetype": "text/x-python",
      "name": "python",
      "nbconvert_exporter": "python",
      "pygments_lexer": "ipython3",
      "version": "3.8.7"
    },
    "orig_nbformat": 4,
    "colab": {
      "name": "MCM.ipynb",
      "provenance": [],
      "collapsed_sections": []
    },
    "accelerator": "GPU"
  },
  "nbformat": 4,
  "nbformat_minor": 0
}