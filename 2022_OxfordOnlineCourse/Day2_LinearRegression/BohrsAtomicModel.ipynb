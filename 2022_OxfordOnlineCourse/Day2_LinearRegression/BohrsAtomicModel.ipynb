{
  "nbformat": 4,
  "nbformat_minor": 0,
  "metadata": {
    "colab": {
      "name": "BohrsAtomicModel.ipynb",
      "provenance": [],
      "collapsed_sections": []
    },
    "kernelspec": {
      "name": "python3",
      "display_name": "Python 3"
    },
    "language_info": {
      "name": "python"
    }
  },
  "cells": [
    {
      "cell_type": "code",
      "metadata": {
        "colab": {
          "base_uri": "https://localhost:8080/",
          "height": 313
        },
        "id": "MVTNLbMT25BX",
        "outputId": "be583d17-7d8c-48be-b5ed-2dba6d848af9"
      },
      "source": [
        "#[Fictional Story] The data for the hydrogen spectrum was provided to a statistcain and he/She decided to use linear regression\n",
        "#model for finding the relation between the hydrogen spectrum and the hydrogen shell. The statistican wants to find the relatioship between \n",
        "#the shell from which the electron jumps (ni) to the first shell and the spatial frequency (sf). He/She tries to fit 2-7 order polynomial to the data.\n",
        "import numpy as np\n",
        "import matplotlib.pyplot as plt\n",
        "\n",
        "\n",
        "ni=np.arange(2,25)\n",
        "\n",
        "sf=[(1.1*10**7)*(1/(1)**2 -1/(i)**2) for i in ni] \n",
        "plt.plot(ni,sf,'.')\n",
        "print(sf)"
      ],
      "execution_count": 93,
      "outputs": [
        {
          "output_type": "stream",
          "name": "stdout",
          "text": [
            "[8250000.0, 9777777.777777778, 10312500.0, 10560000.0, 10694444.444444444, 10775510.204081632, 10828125.0, 10864197.530864198, 10890000.0, 10909090.90909091, 10923611.111111112, 10934911.24260355, 10943877.551020408, 10951111.11111111, 10957031.25, 10961937.716262976, 10966049.382716049, 10969529.085872576, 10972500.0, 10975056.689342404, 10977272.727272727, 10979206.049149338, 10980902.777777778]\n"
          ]
        },
        {
          "output_type": "display_data",
          "data": {
            "image/png": "[encoded data removed]",
            "text/plain": [
              "<Figure size 432x288 with 1 Axes>"
            ]
          },
          "metadata": {
            "needs_background": "light"
          }
        }
      ]
    },
    {
      "cell_type": "code",
      "source": [
        "sf=np.asarray(sf)\n",
        "print(ni.shape, sf.shape)"
      ],
      "metadata": {
        "id": "7KUjGfqynl-L",
        "outputId": "d633110c-77ea-4131-a73a-3ee73c0698aa",
        "colab": {
          "base_uri": "https://localhost:8080/"
        }
      },
      "execution_count": 94,
      "outputs": [
        {
          "output_type": "stream",
          "name": "stdout",
          "text": [
            "(23,) (23,)\n"
          ]
        }
      ]
    },
    {
      "cell_type": "code",
      "source": [
        "Num = 6\n",
        "basis = np.arange(Num)\n",
        "ni = ni[:,np.newaxis]\n",
        "basis = basis[np.newaxis,:]\n",
        "print(ni.shape,basis.shape)\n",
        "A = ni**basis"
      ],
      "metadata": {
        "id": "Me-Ajwm5z5W9",
        "outputId": "d0846b82-2d07-4c85-8779-135aafcc792e",
        "colab": {
          "base_uri": "https://localhost:8080/"
        }
      },
      "execution_count": 95,
      "outputs": [
        {
          "output_type": "stream",
          "name": "stdout",
          "text": [
            "(23, 1) (1, 6)\n"
          ]
        }
      ]
    },
    {
      "cell_type": "code",
      "source": [
        "w=np.linalg.inv(A.T@A)@(A.T@sf)\n",
        "print(w.shape)\n",
        "print(w)"
      ],
      "metadata": {
        "id": "lYuEvUIf0q03",
        "outputId": "869776d0-0ebd-4201-9b3b-47692a2f2619",
        "colab": {
          "base_uri": "https://localhost:8080/"
        }
      },
      "execution_count": 96,
      "outputs": [
        {
          "output_type": "stream",
          "name": "stdout",
          "text": [
            "(6,)\n",
            "[ 4.55182745e+06  2.68197555e+06 -4.30142515e+05  3.25558846e+04\n",
            " -1.16452702e+03  1.58494945e+01]\n"
          ]
        }
      ]
    },
    {
      "cell_type": "code",
      "source": [
        "yhat=A@w\n",
        "plt.plot(ni,yhat,ni,sf)"
      ],
      "metadata": {
        "id": "rnloB8mW6Rgs",
        "outputId": "11865c2c-e5ef-4bfc-f87c-bfed3e7142c4",
        "colab": {
          "base_uri": "https://localhost:8080/",
          "height": 311
        }
      },
      "execution_count": 97,
      "outputs": [
        {
          "output_type": "execute_result",
          "data": {
            "text/plain": [
              "[<matplotlib.lines.Line2D at 0x7fda215f2dd0>,\n",
              " <matplotlib.lines.Line2D at 0x7fda215f2fd0>]"
            ]
          },
          "metadata": {},
          "execution_count": 97
        },
        {
          "output_type": "display_data",
          "data": {
            "image/png": "[encoded data removed]",
            "text/plain": [
              "<Figure size 432x288 with 1 Axes>"
            ]
          },
          "metadata": {
            "needs_background": "light"
          }
        }
      ]
    }
  ]
}