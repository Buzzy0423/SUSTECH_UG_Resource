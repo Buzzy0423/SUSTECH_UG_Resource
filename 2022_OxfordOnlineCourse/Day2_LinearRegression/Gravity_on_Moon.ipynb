{
  "nbformat": 4,
  "nbformat_minor": 0,
  "metadata": {
    "colab": {
      "name": "Gravity on Moon.ipynb",
      "provenance": [],
      "collapsed_sections": []
    },
    "kernelspec": {
      "name": "python3",
      "display_name": "Python 3"
    },
    "language_info": {
      "name": "python"
    }
  },
  "cells": [
    {
      "cell_type": "code",
      "metadata": {
        "colab": {
          "base_uri": "https://localhost:8080/",
          "height": 282
        },
        "id": "cx4pkfo5xeEv",
        "outputId": "e3f0b24e-cb6f-4f3d-ce74-0b2ea9352146"
      },
      "source": [
        "#[Fictional Story] The astronauts on moon wanted to measure the value of gravity on the moon. The decide to throw a spanner \n",
        "#from different heights and measure the time needed to cover the distance and based on these values want to extract the value of \n",
        "#gravity on moon. The values might be slightly off due to human error and the (very thin) moon atmosphere. Use linear regression to \n",
        "#find the value of gravity on the moon.\n",
        "\n",
        "\n",
        "\n",
        "import matplotlib.pyplot as plt\n",
        "import numpy as np\n",
        "\n",
        "gmoon=9.8/6\n",
        "t=np.linspace(1,3,20)\n",
        "s=0.5*gmoon*t**2 + 0.0*np.random.randn(t.size)\n",
        "plt.plot(t,s,'.')"
      ],
      "execution_count": 5,
      "outputs": [
        {
          "output_type": "execute_result",
          "data": {
            "text/plain": [
              "[<matplotlib.lines.Line2D at 0x7f54d6873a50>]"
            ]
          },
          "metadata": {},
          "execution_count": 5
        },
        {
          "output_type": "display_data",
          "data": {
            "image/png": "[encoded data removed]",
            "text/plain": [
              "<Figure size 432x288 with 1 Axes>"
            ]
          },
          "metadata": {
            "needs_background": "light"
          }
        }
      ]
    },
    {
      "cell_type": "code",
      "source": [
        "Num=5\n",
        "basis=np.arange(Num)\n",
        "t=t[:,np.newaxis]\n",
        "basis=basis[np.newaxis,:]\n",
        "A=t**basis\n",
        "print(A.shape)\n",
        "s=s[:,np.newaxis]\n",
        "w=np.linalg.inv(A.T@A)@(A.T@s)\n",
        "shat=A@w\n",
        "plt.plot(t,s,t,shat)"
      ],
      "metadata": {
        "id": "1PnsxEggblWc",
        "outputId": "f82fca2b-3ab3-4552-f230-cec69ec2b3ef",
        "colab": {
          "base_uri": "https://localhost:8080/",
          "height": 317
        }
      },
      "execution_count": 6,
      "outputs": [
        {
          "output_type": "stream",
          "name": "stdout",
          "text": [
            "(20, 5)\n"
          ]
        },
        {
          "output_type": "execute_result",
          "data": {
            "text/plain": [
              "[<matplotlib.lines.Line2D at 0x7f54d67ed810>,\n",
              " <matplotlib.lines.Line2D at 0x7f54d67eda50>]"
            ]
          },
          "metadata": {},
          "execution_count": 6
        },
        {
          "output_type": "display_data",
          "data": {
            "image/png": "[encoded data removed]",
            "text/plain": [
              "<Figure size 432x288 with 1 Axes>"
            ]
          },
          "metadata": {
            "needs_background": "light"
          }
        }
      ]
    }
  ]
}