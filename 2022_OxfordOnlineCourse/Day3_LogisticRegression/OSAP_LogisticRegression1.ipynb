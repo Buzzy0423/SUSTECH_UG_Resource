{
  "nbformat": 4,
  "nbformat_minor": 0,
  "metadata": {
    "colab": {
      "name": "OSAP_LogisticRegression1.ipynb",
      "provenance": [],
      "collapsed_sections": []
    },
    "kernelspec": {
      "name": "python3",
      "display_name": "Python 3"
    },
    "language_info": {
      "name": "python"
    }
  },
  "cells": [
    {
      "cell_type": "code",
      "execution_count": 25,
      "metadata": {
        "id": "QfFeTo_P-mTF"
      },
      "outputs": [],
      "source": [
        "import numpy as np\n",
        "import matplotlib.pyplot as plt\n",
        "\n",
        "%matplotlib inline"
      ]
    },
    {
      "cell_type": "code",
      "source": [
        "def plotClass(X,y,p):\n",
        "    plt.figure()\n",
        "    for i in range(y.shape[1]):\n",
        "        if y[0,i]==0:\n",
        "            plt.plot(X[0,i],X[1,i],'r'+p)\n",
        "        else:\n",
        "            plt.plot(X[0,i],X[1,i],'b'+p)\n",
        "            \n",
        "    plt.show()"
      ],
      "metadata": {
        "id": "njYxETX4-qTk"
      },
      "execution_count": 26,
      "outputs": []
    },
    {
      "cell_type": "code",
      "source": [
        "num_data=100 # data points per class\n",
        "\n",
        "x1=np.random.randn(2,num_data)+4\n",
        "x0=np.random.randn(2,num_data)\n",
        "\n",
        "y1=np.ones((1,num_data))\n",
        "y0=np.zeros((1,num_data))\n",
        "\n",
        "X=np.concatenate((x1,x0),axis=1)\n",
        "y=np.concatenate((y1,y0), axis=1)\n",
        "plotClass(X,y,'o')\n",
        "print(X.shape)\n",
        "print(y.shape)"
      ],
      "metadata": {
        "colab": {
          "base_uri": "https://localhost:8080/",
          "height": 300
        },
        "id": "GKX3U7L0-rZl",
        "outputId": "02b78b3b-b9cf-4463-d7d8-2db9983b36ab"
      },
      "execution_count": 27,
      "outputs": [
        {
          "output_type": "display_data",
          "data": {
            "image/png": "[encoded data removed]",
            "text/plain": [
              "<Figure size 432x288 with 1 Axes>"
            ]
          },
          "metadata": {
            "needs_background": "light"
          }
        },
        {
          "output_type": "stream",
          "name": "stdout",
          "text": [
            "(2, 200)\n",
            "(1, 200)\n"
          ]
        }
      ]
    },
    {
      "cell_type": "code",
      "source": [
        "def getZ(w,x,b):\n",
        "  return w@x + b\n",
        "\n",
        "def sigmoid(z):\n",
        "  return (1/(1+np.exp(-z)))\n",
        "\n",
        "def loss(y,yhat):\n",
        "  return np.sum(-y*np.log(yhat)-(1-y)*np.log(1-yhat), 1)"
      ],
      "metadata": {
        "id": "cjJZo8aL1SDo"
      },
      "execution_count": 28,
      "outputs": []
    },
    {
      "cell_type": "code",
      "source": [
        "w = np.random.random((1,2))\n",
        "b = 0\n",
        "ls = []\n",
        "lr = 0.001\n",
        "batch_size = 16\n",
        "for i in range(100000):\n",
        "  z=getZ(w,X,b)\n",
        "  yhat=sigmoid(z)\n",
        "  l=loss(y,yhat)\n",
        "  ls.append(l)\n",
        "  dz=yhat-y\n",
        "  dw=dz@X.T\n",
        "  db=np.sum(dz,1)\n",
        "  w=w-lr*dw\n",
        "  b=b-lr*db"
      ],
      "metadata": {
        "id": "ffYLVE5z6Fd5"
      },
      "execution_count": 29,
      "outputs": []
    },
    {
      "cell_type": "code",
      "source": [
        "plt.plot(ls)"
      ],
      "metadata": {
        "id": "LX-OHfeEFLXf",
        "outputId": "4aac3fa2-465b-49c2-e82c-f82fcd6fbd0b",
        "colab": {
          "base_uri": "https://localhost:8080/",
          "height": 282
        }
      },
      "execution_count": 30,
      "outputs": [
        {
          "output_type": "execute_result",
          "data": {
            "text/plain": [
              "[<matplotlib.lines.Line2D at 0x7fa9bdd563d0>]"
            ]
          },
          "metadata": {},
          "execution_count": 30
        },
        {
          "output_type": "display_data",
          "data": {
            "image/png": "[encoded data removed]",
            "text/plain": [
              "<Figure size 432x288 with 1 Axes>"
            ]
          },
          "metadata": {
            "needs_background": "light"
          }
        }
      ]
    },
    {
      "cell_type": "code",
      "source": [
        "plotClass(X,yhat>0.5,'.')"
      ],
      "metadata": {
        "id": "LjWTbgs4F6aH",
        "outputId": "9a50bf7f-7203-4a22-c2c5-349061acf91c",
        "colab": {
          "base_uri": "https://localhost:8080/",
          "height": 265
        }
      },
      "execution_count": 31,
      "outputs": [
        {
          "output_type": "display_data",
          "data": {
            "image/png": "[encoded data removed]",
            "text/plain": [
              "<Figure size 432x288 with 1 Axes>"
            ]
          },
          "metadata": {
            "needs_background": "light"
          }
        }
      ]
    }
  ]
}