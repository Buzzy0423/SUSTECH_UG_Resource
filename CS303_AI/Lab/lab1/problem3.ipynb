{
 "cells": [
  {
   "cell_type": "markdown",
   "metadata": {},
   "source": [
    "### Snake: Simulate a snake game and print the game results.\n",
    "\n",
    "You are given a map that ‘x’ represents a rock, ‘-’represents a space, ‘#’represents the body of snake. ‘@’represent the head of the snake and a sequence of actions that ‘0,1,2,3’represent to move to up/down/left/right correspondingly for one step.\n",
    "A greedy snake starts in the map state and moves one step per unit of time according to the sequence of actions until all actions complete or fail. It will fail when the head and the stone overlap, the head goes beyond the boundary, or the head overlaps the body. \n",
    "\n",
    "#### Input\n",
    "A matrix with type char (the map). \n",
    "A sequence with type int (the motions). \n",
    "\n",
    "#### Output\n",
    "the the result of the game:\n",
    "If it failed, output the running time of the game.\n",
    "It it didn’t fail, output the final position of the head (in the form “%d, %d”)."
   ]
  },
  {
   "cell_type": "code",
   "execution_count": 18,
   "metadata": {},
   "outputs": [
    {
     "data": {
      "text/plain": [
       "'\\nExample:\\ninput:\\nmap:\\n---------\\n------x--\\n-x-------\\n---@-----\\n---##----\\n------x--\\n--x----x-\\n-x-------\\n---------\\naction:\\n0 0 3 3 0 3 3 1 1 1 1 1 3 1 1 2 2 2 2 2\\n\\noutput:\\n7 3\\n'"
      ]
     },
     "execution_count": 18,
     "metadata": {},
     "output_type": "execute_result"
    }
   ],
   "source": [
    "\"\"\"\n",
    "Example:\n",
    "input:\n",
    "map:\n",
    "---------\n",
    "------x--\n",
    "-x-------\n",
    "---@-----\n",
    "---##----\n",
    "------x--\n",
    "--x----x-\n",
    "-x-------\n",
    "---------\n",
    "action:\n",
    "0 0 3 3 0 3 3 1 1 1 1 1 3 1 1 2 2 2 2 2\n",
    "\n",
    "output:\n",
    "7 3\n",
    "\"\"\""
   ]
  },
  {
   "cell_type": "code",
   "execution_count": 31,
   "metadata": {
    "pycharm": {
     "name": "#%%\n"
    }
   },
   "outputs": [],
   "source": [
    "# add your code here\n",
    "\n",
    "\n",
    "def snake_game(map, action):\n",
    "    snake_len = 0\n",
    "    snake_path = []\n",
    "    x = -1\n",
    "    y = -1\n",
    "    for i in range(len(map)):\n",
    "        for j in range(len(map[0])):\n",
    "            if map[i][j] == '@':\n",
    "                x = i\n",
    "                y = j\n",
    "                break\n",
    "        if x != -1 and y != -1:\n",
    "            break\n",
    "    tmp = True\n",
    "    \n",
    "    while tmp:\n",
    "        map[x][y] = '-'\n",
    "        snake_len += 1\n",
    "        snake_path.insert(0, [x,y])\n",
    "        if map[x+1][y] == '#':\n",
    "            x = x+1\n",
    "            continue\n",
    "        elif map[x-1][y] == '#':\n",
    "            x = x-1\n",
    "            continue\n",
    "        elif map[x][y+1] == '#':\n",
    "            y = y+1\n",
    "            continue\n",
    "        elif map[x][y-1] == '#':\n",
    "            y = y-1\n",
    "            continue\n",
    "        break\n",
    "\n",
    "    for t in range(len(action)):\n",
    "        i = action[t]\n",
    "        x = snake_path[-1][0]\n",
    "        y = snake_path[-1][1]\n",
    "        if i == 0:\n",
    "            x -= 1\n",
    "        elif i == 1:\n",
    "            x += 1\n",
    "        elif i == 2:\n",
    "            y -= 1\n",
    "        elif i == 3:\n",
    "            y += 1\n",
    "\n",
    "        snake_path.pop(0)\n",
    "        \n",
    "        #print(x, y)\n",
    "        for index in snake_path:\n",
    "            if [x,y] == index:\n",
    "                return t    \n",
    "        \n",
    "        snake_path.append([x,y])\n",
    "\n",
    "        if x < 0 or y < 0 or x > len(map)-1 or y > len(map[0])-1:\n",
    "            return t\n",
    "        if map[x][y] == 'x':\n",
    "            return t\n",
    "        \n",
    "        \n",
    "\n",
    "    return snake_head[-1]\n"
   ]
  },
  {
   "cell_type": "code",
   "execution_count": 33,
   "metadata": {
    "pycharm": {
     "name": "#%%\n"
    }
   },
   "outputs": [
    {
     "name": "stdout",
     "output_type": "stream",
     "text": [
      "32\n"
     ]
    }
   ],
   "source": [
    "# test block, you may need to modify this block.\n",
    "test_case = 4\n",
    "with open(f'test_cases/problem3/{test_case}-map.txt', 'r') as f:\n",
    "    game_map = [list(line.strip()) for line in f.readlines()]\n",
    "#print(game_map)\n",
    "with open(f'./test_cases/problem3/{test_case}-actions.txt', 'r') as f:\n",
    "    actions = [*map(int, f.read().split(' '))]\n",
    "#print(actions)\n",
    "\n",
    "print(snake_game(game_map, actions))"
   ]
  }
 ],
 "metadata": {
  "kernelspec": {
   "display_name": "Python 3.8.7 64-bit",
   "language": "python",
   "name": "python3"
  },
  "language_info": {
   "codemirror_mode": {
    "name": "ipython",
    "version": 3
   },
   "file_extension": ".py",
   "mimetype": "text/x-python",
   "name": "python",
   "nbconvert_exporter": "python",
   "pygments_lexer": "ipython3",
   "version": "3.8.7"
  },
  "vscode": {
   "interpreter": {
    "hash": "082e9a3bcad0a290d0001e938aa60b99250c6c2ef33a923c00b70f9826caf4b7"
   }
  }
 },
 "nbformat": 4,
 "nbformat_minor": 1
}
