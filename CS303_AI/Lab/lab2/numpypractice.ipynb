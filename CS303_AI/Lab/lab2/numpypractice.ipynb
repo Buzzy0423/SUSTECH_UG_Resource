{
 "cells": [
  {
   "cell_type": "markdown",
   "id": "64da1d8e",
   "metadata": {},
   "source": [
    "## Practice\n",
    "\n",
    "1. Create a 10*10 ndarray object, and the matrix boundary value is 1, and the rest are 0.\n"
   ]
  },
  {
   "cell_type": "code",
   "execution_count": 2,
   "id": "f4c5c506",
   "metadata": {},
   "outputs": [],
   "source": [
    "import numpy as np"
   ]
  },
  {
   "cell_type": "code",
   "execution_count": 3,
   "id": "035382e3",
   "metadata": {},
   "outputs": [
    {
     "name": "stdout",
     "output_type": "stream",
     "text": [
      "[[1. 1. 1. 1. 1. 1. 1. 1. 1. 1.]\n",
      " [1. 0. 0. 0. 0. 0. 0. 0. 0. 1.]\n",
      " [1. 0. 0. 0. 0. 0. 0. 0. 0. 1.]\n",
      " [1. 0. 0. 0. 0. 0. 0. 0. 0. 1.]\n",
      " [1. 0. 0. 0. 0. 0. 0. 0. 0. 1.]\n",
      " [1. 0. 0. 0. 0. 0. 0. 0. 0. 1.]\n",
      " [1. 0. 0. 0. 0. 0. 0. 0. 0. 1.]\n",
      " [1. 0. 0. 0. 0. 0. 0. 0. 0. 1.]\n",
      " [1. 0. 0. 0. 0. 0. 0. 0. 0. 1.]\n",
      " [1. 1. 1. 1. 1. 1. 1. 1. 1. 1.]]\n"
     ]
    }
   ],
   "source": [
    "#1\n",
    "arr1 = np.zeros([10,10])\n",
    "arr1[0,:].fill(1)\n",
    "arr1[:,0].fill(1)\n",
    "arr1[:,-1].fill(1)\n",
    "arr1[-1,:].fill(1)\n",
    "print(arr1)"
   ]
  },
  {
   "cell_type": "markdown",
   "id": "8d3b3c80",
   "metadata": {},
   "source": [
    "2. Create a 5*5 matrix with each row being 0 to 4"
   ]
  },
  {
   "cell_type": "code",
   "execution_count": 4,
   "id": "6c26347e",
   "metadata": {},
   "outputs": [
    {
     "name": "stdout",
     "output_type": "stream",
     "text": [
      "[[0 1 2 3 4]\n",
      " [0 1 2 3 4]\n",
      " [0 1 2 3 4]\n",
      " [0 1 2 3 4]\n",
      " [0 1 2 3 4]]\n"
     ]
    }
   ],
   "source": [
    "# 2\n",
    "arr2 = np.array([[i for i in range(5)], [i for i in range(5)], [i for i in range(5)], [i for i in range(5)], [i for i in range(5)]])\n",
    "print(arr2)"
   ]
  },
  {
   "cell_type": "markdown",
   "id": "8b226308",
   "metadata": {},
   "source": [
    "3. Create an 8*8 matrix and fill it with a checkerboard pattern, like [[0,1],[1,0]])"
   ]
  },
  {
   "cell_type": "code",
   "execution_count": 5,
   "id": "e83e8494",
   "metadata": {},
   "outputs": [
    {
     "name": "stdout",
     "output_type": "stream",
     "text": [
      "[[0 1 0 1 0 1 0 1]\n",
      " [1 0 1 0 1 0 1 0]\n",
      " [0 1 0 1 0 1 0 1]\n",
      " [1 0 1 0 1 0 1 0]\n",
      " [0 1 0 1 0 1 0 1]\n",
      " [1 0 1 0 1 0 1 0]\n",
      " [0 1 0 1 0 1 0 1]\n",
      " [1 0 1 0 1 0 1 0]]\n"
     ]
    }
   ],
   "source": [
    "#3\n",
    "arr3 = np.array([[0,1]*4,[1,0]*4])\n",
    "for i in range(2):\n",
    "    arr3 = np.row_stack((arr3,arr3))\n",
    "\n",
    "print(arr3)"
   ]
  },
  {
   "cell_type": "markdown",
   "id": "04663245",
   "metadata": {},
   "source": [
    "4. output all the odd numbers in the array  \n",
    "   Example:  \n",
    "   in:    arr = np.array([0, 1, 2, 3, 4, 5, 6, 7, 8, 9])  \n",
    "   out:   array([1, 3, 5, 7, 9])  "
   ]
  },
  {
   "cell_type": "code",
   "execution_count": 6,
   "id": "7964df33",
   "metadata": {},
   "outputs": [
    {
     "name": "stdout",
     "output_type": "stream",
     "text": [
      "[1 3 5 7 9]\n"
     ]
    }
   ],
   "source": [
    "#4\n",
    "arr4 = np.array([0, 1, 2, 3, 4, 5, 6, 7, 8, 9])\n",
    "out = arr4[np.where(arr4%2 ==1)]\n",
    "print(out)"
   ]
  },
  {
   "cell_type": "markdown",
   "id": "fc506104",
   "metadata": {},
   "source": [
    "5. Normalize a 5x5 random matrix "
   ]
  },
  {
   "cell_type": "code",
   "execution_count": 7,
   "id": "972284fd",
   "metadata": {},
   "outputs": [
    {
     "name": "stdout",
     "output_type": "stream",
     "text": [
      "[[0.16155848 0.28272734 0.16155848 0.12116886 0.2019481 ]\n",
      " [0.         0.16155848 0.12116886 0.28272734 0.        ]\n",
      " [0.36350658 0.24233772 0.36350658 0.04038962 0.12116886]\n",
      " [0.32311696 0.08077924 0.16155848 0.12116886 0.08077924]\n",
      " [0.08077924 0.32311696 0.2019481  0.04038962 0.2019481 ]]\n"
     ]
    }
   ],
   "source": [
    "#5\n",
    "arr5 = np.random.randint(0,10,(5,5))\n",
    "arr5 = arr5 / np.linalg.norm(arr5)\n",
    "print(arr5)"
   ]
  },
  {
   "cell_type": "markdown",
   "id": "df87456c",
   "metadata": {},
   "source": [
    "6. Consider a random 10x2 matrix representing cartesian coordinates, convert them to polar coordinates."
   ]
  },
  {
   "cell_type": "code",
   "execution_count": 8,
   "id": "125feb23",
   "metadata": {},
   "outputs": [
    {
     "name": "stdout",
     "output_type": "stream",
     "text": [
      "[[2 8]\n",
      " [3 8]\n",
      " [2 3]\n",
      " [5 5]\n",
      " [4 2]\n",
      " [7 1]\n",
      " [8 3]\n",
      " [4 9]\n",
      " [5 0]\n",
      " [2 9]]\n"
     ]
    }
   ],
   "source": [
    "#6\n",
    "def get_radius(x, y):\n",
    "    r = np.sqrt((x **2+y **2))\n",
    "    return r\n",
    "\n",
    "def get_angle(x, y):\n",
    "    a = np.arctan(y / x * 180 / np.pi)\n",
    "    return a\n",
    "\n",
    "arr6 = np.random.randint(0,10,(10,2))\n",
    "print(arr6)"
   ]
  },
  {
   "cell_type": "code",
   "execution_count": 9,
   "id": "d9a397cf",
   "metadata": {},
   "outputs": [
    {
     "name": "stdout",
     "output_type": "stream",
     "text": [
      "[[8.24621125 1.56643303]\n",
      " [8.54400375 1.56425144]\n",
      " [3.60555128 1.55916132]\n",
      " [7.07106781 1.55334481]\n",
      " [4.47213595 1.53590391]\n",
      " [7.07106781 1.44922575]\n",
      " [8.54400375 1.52428778]\n",
      " [9.8488578  1.56303946]\n",
      " [5.         0.        ]\n",
      " [9.21954446 1.56691784]]\n"
     ]
    }
   ],
   "source": [
    "\n",
    "polar = []\n",
    "for cor in arr6:\n",
    "    polar.append([get_radius(cor[0],cor[1]), get_angle(cor[0], cor[1])])\n",
    "\n",
    "polar = np.array(polar)\n",
    "print(polar)"
   ]
  },
  {
   "cell_type": "markdown",
   "id": "c1cedf1f",
   "metadata": {},
   "source": [
    "7. Consider the vector [1, 2, 3, 4, 5], how to build a new vector with 3 consecutive zeros interleaved between each value?"
   ]
  },
  {
   "cell_type": "code",
   "execution_count": 10,
   "id": "c8a88dfd",
   "metadata": {},
   "outputs": [
    {
     "name": "stdout",
     "output_type": "stream",
     "text": [
      "[1 2 3 4]\n",
      "[1 0 0 0 2 0 0 0 3 0 0 0 4 0 0 0 5]\n"
     ]
    }
   ],
   "source": [
    "# 7\n",
    "arr7 = np.array([i+1 for i in range(4)])\n",
    "print(arr7)\n",
    "arr7 = arr7.reshape([4,1])\n",
    "arr7 = np.insert(arr7, 1, [[0],[0],[0]], axis=1)\n",
    "arr7 = arr7.flatten()\n",
    "arr7 = np.append(arr7, 5)\n",
    "print(arr7)"
   ]
  },
  {
   "cell_type": "markdown",
   "id": "c7ea103c",
   "metadata": {},
   "source": [
    "8. What are the result of the following expressions?\n",
    "\n",
    "0 * np.nan\n",
    "\n",
    "np.nan == np.nan\n",
    "\n",
    "np.inf > np.nan\n",
    "\n",
    "np.nan - np.nan\n",
    "\n",
    "np.nan in set([np.nan])\n",
    "\n",
    "0.3 == 3 * 0.1 \n",
    "\n",
    "(hint1:nan means not a number \n",
    "hint2:0.1(10) == 0.0001100110011001100110011001100110011001100110011...(2))\n",
    "First guess a result, then print the result, and finally find why"
   ]
  },
  {
   "cell_type": "code",
   "execution_count": 11,
   "id": "ee65170c",
   "metadata": {},
   "outputs": [
    {
     "name": "stdout",
     "output_type": "stream",
     "text": [
      "nan\n",
      "False\n",
      "False\n",
      "nan\n",
      "True\n",
      "False\n",
      "0.30000000000000004\n"
     ]
    }
   ],
   "source": [
    "#8\n",
    "#nan是一个特殊的浮点数，其指数位为255，小数位不为0\n",
    "#任何nan参与的运算结果都为nan\n",
    "print(0 * np.nan)\n",
    "#nan与任何数比较都为False\n",
    "print(np.nan == np.nan)\n",
    "\n",
    "print(np.inf > np.nan)\n",
    "\n",
    "print(np.nan - np.nan)\n",
    "#这个是因为在比较两个相同的对象，所以结果是True\n",
    "print(np.nan in set([np.nan]))\n",
    "\n",
    "#因为浮点精度问题，3*0.1不等于0.3\n",
    "print(0.3 == 3 * 0.1) \n",
    "print(3*0.1)"
   ]
  },
  {
   "cell_type": "markdown",
   "id": "7218ef9e",
   "metadata": {},
   "source": [
    "9. What are the result of the following expressions? (Hint: the type of pn.nan is float)\n",
    "\n",
    "np.array(0) / np.array(0)\n",
    "\n",
    "np.array(0) // np.array(0)\n",
    "\n",
    "np.array([np.nan]).astype(int).astype(float)\n",
    "\n",
    "\n",
    "First guess a result, then print the result, and finally find why "
   ]
  },
  {
   "cell_type": "code",
   "execution_count": 13,
   "id": "cc0b2732",
   "metadata": {},
   "outputs": [
    {
     "name": "stdout",
     "output_type": "stream",
     "text": [
      "nan\n",
      "0\n",
      "0\n",
      "[-9.22337204e+18]\n"
     ]
    },
    {
     "name": "stderr",
     "output_type": "stream",
     "text": [
      "/var/folders/yd/5k827nkn5rbcnfly0n4b286c0000gn/T/ipykernel_55713/720299416.py:3: RuntimeWarning: invalid value encountered in true_divide\n",
      "  print(np.array(0) / np.array(0))\n",
      "/var/folders/yd/5k827nkn5rbcnfly0n4b286c0000gn/T/ipykernel_55713/720299416.py:5: RuntimeWarning: divide by zero encountered in floor_divide\n",
      "  print(np.array(2) // np.array(0))\n",
      "/var/folders/yd/5k827nkn5rbcnfly0n4b286c0000gn/T/ipykernel_55713/720299416.py:6: RuntimeWarning: divide by zero encountered in floor_divide\n",
      "  print(np.array(0) // np.array(0))\n"
     ]
    }
   ],
   "source": [
    "#9\n",
    "#在IEEE 754标准中，0/0结果为qnan，即0b0 11111111 10000000000000000000000\n",
    "print(np.array(0) / np.array(0))\n",
    "#python规定\n",
    "print(np.array(2) // np.array(0))\n",
    "print(np.array(0) // np.array(0))\n",
    "#nan转换为int的类型转换没有被定义，这个值是int64的最小值\n",
    "print(np.array([np.nan]).astype(int).astype(float))"
   ]
  }
 ],
 "metadata": {
  "kernelspec": {
   "display_name": "Python 3.8.7 64-bit",
   "language": "python",
   "name": "python3"
  },
  "language_info": {
   "codemirror_mode": {
    "name": "ipython",
    "version": 3
   },
   "file_extension": ".py",
   "mimetype": "text/x-python",
   "name": "python",
   "nbconvert_exporter": "python",
   "pygments_lexer": "ipython3",
   "version": "3.8.7"
  },
  "vscode": {
   "interpreter": {
    "hash": "082e9a3bcad0a290d0001e938aa60b99250c6c2ef33a923c00b70f9826caf4b7"
   }
  }
 },
 "nbformat": 4,
 "nbformat_minor": 5
}
